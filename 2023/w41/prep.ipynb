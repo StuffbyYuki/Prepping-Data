{
 "cells": [
  {
   "cell_type": "code",
   "execution_count": 1,
   "metadata": {},
   "outputs": [],
   "source": [
    "import polars as pl"
   ]
  },
  {
   "cell_type": "code",
   "execution_count": 3,
   "metadata": {},
   "outputs": [],
   "source": [
    "names_df = pl.read_csv('data/Student_Name.csv')\n",
    "nationality_df = pl.read_csv('data/Student_Nationality.csv')"
   ]
  },
  {
   "cell_type": "code",
   "execution_count": 4,
   "metadata": {},
   "outputs": [
    {
     "data": {
      "text/html": [
       "<div><style>\n",
       ".dataframe > thead > tr > th,\n",
       ".dataframe > tbody > tr > td {\n",
       "  text-align: right;\n",
       "  white-space: pre-wrap;\n",
       "}\n",
       "</style>\n",
       "<small>shape: (5, 2)</small><table border=\"1\" class=\"dataframe\"><thead><tr><th>Student ID</th><th>Name</th></tr><tr><td>i64</td><td>str</td></tr></thead><tbody><tr><td>1</td><td>&quot;John Smith&quot;</td></tr><tr><td>2</td><td>&quot;Emily Wong&quot;</td></tr><tr><td>3</td><td>&quot;Miguel Diaz&quot;</td></tr><tr><td>4</td><td>&quot;Sarah Johnson&quot;</td></tr><tr><td>5</td><td>&quot;Wei Chen&quot;</td></tr></tbody></table></div>"
      ],
      "text/plain": [
       "shape: (5, 2)\n",
       "┌────────────┬───────────────┐\n",
       "│ Student ID ┆ Name          │\n",
       "│ ---        ┆ ---           │\n",
       "│ i64        ┆ str           │\n",
       "╞════════════╪═══════════════╡\n",
       "│ 1          ┆ John Smith    │\n",
       "│ 2          ┆ Emily Wong    │\n",
       "│ 3          ┆ Miguel Diaz   │\n",
       "│ 4          ┆ Sarah Johnson │\n",
       "│ 5          ┆ Wei Chen      │\n",
       "└────────────┴───────────────┘"
      ]
     },
     "execution_count": 4,
     "metadata": {},
     "output_type": "execute_result"
    }
   ],
   "source": [
    "names_df.head()"
   ]
  },
  {
   "cell_type": "code",
   "execution_count": 7,
   "metadata": {},
   "outputs": [
    {
     "data": {
      "text/html": [
       "<div><style>\n",
       ".dataframe > thead > tr > th,\n",
       ".dataframe > tbody > tr > td {\n",
       "  text-align: right;\n",
       "  white-space: pre-wrap;\n",
       "}\n",
       "</style>\n",
       "<small>shape: (5, 3)</small><table border=\"1\" class=\"dataframe\"><thead><tr><th>Student ID</th><th>Nationality</th><th>Classroom</th></tr><tr><td>i64</td><td>str</td><td>str</td></tr></thead><tbody><tr><td>1</td><td>&quot;USA&quot;</td><td>&quot;A&quot;</td></tr><tr><td>2</td><td>&quot;Canada&quot;</td><td>&quot;A&quot;</td></tr><tr><td>3</td><td>&quot;Mexico&quot;</td><td>&quot;A&quot;</td></tr><tr><td>4</td><td>&quot;USA&quot;</td><td>&quot;A&quot;</td></tr><tr><td>5</td><td>&quot;China&quot;</td><td>&quot;A&quot;</td></tr></tbody></table></div>"
      ],
      "text/plain": [
       "shape: (5, 3)\n",
       "┌────────────┬─────────────┬───────────┐\n",
       "│ Student ID ┆ Nationality ┆ Classroom │\n",
       "│ ---        ┆ ---         ┆ ---       │\n",
       "│ i64        ┆ str         ┆ str       │\n",
       "╞════════════╪═════════════╪═══════════╡\n",
       "│ 1          ┆ USA         ┆ A         │\n",
       "│ 2          ┆ Canada      ┆ A         │\n",
       "│ 3          ┆ Mexico      ┆ A         │\n",
       "│ 4          ┆ USA         ┆ A         │\n",
       "│ 5          ┆ China       ┆ A         │\n",
       "└────────────┴─────────────┴───────────┘"
      ]
     },
     "execution_count": 7,
     "metadata": {},
     "output_type": "execute_result"
    }
   ],
   "source": [
    "nationality_df.head()"
   ]
  },
  {
   "cell_type": "code",
   "execution_count": 23,
   "metadata": {},
   "outputs": [
    {
     "data": {
      "text/html": [
       "<div><style>\n",
       ".dataframe > thead > tr > th,\n",
       ".dataframe > tbody > tr > td {\n",
       "  text-align: right;\n",
       "  white-space: pre-wrap;\n",
       "}\n",
       "</style>\n",
       "<small>shape: (2, 3)</small><table border=\"1\" class=\"dataframe\"><thead><tr><th>Nationality</th><th>Classroom</th><th>Student Cnt</th></tr><tr><td>str</td><td>str</td><td>u32</td></tr></thead><tbody><tr><td>&quot;USA&quot;</td><td>&quot;A&quot;</td><td>5</td></tr><tr><td>&quot;Brasil&quot;</td><td>&quot;B&quot;</td><td>6</td></tr></tbody></table></div>"
      ],
      "text/plain": [
       "shape: (2, 3)\n",
       "┌─────────────┬───────────┬─────────────┐\n",
       "│ Nationality ┆ Classroom ┆ Student Cnt │\n",
       "│ ---         ┆ ---       ┆ ---         │\n",
       "│ str         ┆ str       ┆ u32         │\n",
       "╞═════════════╪═══════════╪═════════════╡\n",
       "│ USA         ┆ A         ┆ 5           │\n",
       "│ Brasil      ┆ B         ┆ 6           │\n",
       "└─────────────┴───────────┴─────────────┘"
      ]
     },
     "execution_count": 23,
     "metadata": {},
     "output_type": "execute_result"
    }
   ],
   "source": [
    "df = (\n",
    "    nationality_df\n",
    "    .join(names_df, on='Student ID', how='left')\n",
    "    .group_by('Nationality', 'Classroom')\n",
    "    .agg(\n",
    "        pl.count().alias('Student Cnt')\n",
    "    )\n",
    "    .with_columns(\n",
    "        pl.col('Student Cnt').rank('ordinal', descending=True).over('Classroom').alias('Rank')\n",
    "    )\n",
    "    .filter(pl.col('Rank')==1)\n",
    "    .select(pl.exclude('Rank'))\n",
    ")\n",
    "df"
   ]
  },
  {
   "cell_type": "code",
   "execution_count": null,
   "metadata": {},
   "outputs": [],
   "source": []
  }
 ],
 "metadata": {
  "kernelspec": {
   "display_name": "env",
   "language": "python",
   "name": "python3"
  },
  "language_info": {
   "codemirror_mode": {
    "name": "ipython",
    "version": 3
   },
   "file_extension": ".py",
   "mimetype": "text/x-python",
   "name": "python",
   "nbconvert_exporter": "python",
   "pygments_lexer": "ipython3",
   "version": "3.11.3"
  }
 },
 "nbformat": 4,
 "nbformat_minor": 2
}
