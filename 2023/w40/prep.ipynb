{
 "cells": [
  {
   "cell_type": "code",
   "execution_count": 1,
   "metadata": {},
   "outputs": [],
   "source": [
    "import polars as pl"
   ]
  },
  {
   "cell_type": "code",
   "execution_count": 2,
   "metadata": {},
   "outputs": [
    {
     "data": {
      "text/html": [
       "<div><style>\n",
       ".dataframe > thead > tr > th,\n",
       ".dataframe > tbody > tr > td {\n",
       "  text-align: right;\n",
       "  white-space: pre-wrap;\n",
       "}\n",
       "</style>\n",
       "<small>shape: (5, 8)</small><table border=\"1\" class=\"dataframe\"><thead><tr><th>Name</th><th>Class 1</th><th>Class 2</th><th>Class 3</th><th>Class 4</th><th>Dropped Class 1</th><th>Dropped Class 2</th><th>Dropped Class 3</th></tr><tr><td>str</td><td>str</td><td>str</td><td>str</td><td>str</td><td>str</td><td>str</td><td>str</td></tr></thead><tbody><tr><td>&quot;Camila Johnson…</td><td>&quot;French&quot;</td><td>&quot;Science&quot;</td><td>&quot;English&quot;</td><td>&quot;Math&quot;</td><td>&quot;English&quot;</td><td>&quot;Science&quot;</td><td>null</td></tr><tr><td>&quot;Emma Taylor&quot;</td><td>&quot;french&quot;</td><td>&quot;History&quot;</td><td>&quot;Geography&quot;</td><td>&quot;Science&quot;</td><td>&quot;Null&quot;</td><td>null</td><td>null</td></tr><tr><td>&quot;Mia Johnson&quot;</td><td>&quot;Science&quot;</td><td>&quot;Geography&quot;</td><td>&quot;Physqcal Educa…</td><td>&quot;English&quot;</td><td>&quot;Null&quot;</td><td>null</td><td>null</td></tr><tr><td>&quot;Ella Young&quot;</td><td>&quot;Math&quot;</td><td>&quot;Sciwnce&quot;</td><td>&quot;English&quot;</td><td>&quot;Physical Educa…</td><td>&quot;Physical Educa…</td><td>null</td><td>null</td></tr><tr><td>&quot;Mila Hall&quot;</td><td>&quot;Geography&quot;</td><td>&quot;Histpry&quot;</td><td>&quot;Physical Educa…</td><td>&quot;English&quot;</td><td>&quot;Physical Educa…</td><td>&quot;History&quot;</td><td>&quot;Geogrlphy&quot;</td></tr></tbody></table></div>"
      ],
      "text/plain": [
       "shape: (5, 8)\n",
       "┌────────────┬───────────┬───────────┬────────────┬────────────┬───────────┬───────────┬───────────┐\n",
       "│ Name       ┆ Class 1   ┆ Class 2   ┆ Class 3    ┆ Class 4    ┆ Dropped   ┆ Dropped   ┆ Dropped   │\n",
       "│ ---        ┆ ---       ┆ ---       ┆ ---        ┆ ---        ┆ Class 1   ┆ Class 2   ┆ Class 3   │\n",
       "│ str        ┆ str       ┆ str       ┆ str        ┆ str        ┆ ---       ┆ ---       ┆ ---       │\n",
       "│            ┆           ┆           ┆            ┆            ┆ str       ┆ str       ┆ str       │\n",
       "╞════════════╪═══════════╪═══════════╪════════════╪════════════╪═══════════╪═══════════╪═══════════╡\n",
       "│ Camila     ┆ French    ┆ Science   ┆ English    ┆ Math       ┆ English   ┆ Science   ┆ null      │\n",
       "│ Johnson    ┆           ┆           ┆            ┆            ┆           ┆           ┆           │\n",
       "│ Emma       ┆ french    ┆ History   ┆ Geography  ┆ Science    ┆ Null      ┆ null      ┆ null      │\n",
       "│ Taylor     ┆           ┆           ┆            ┆            ┆           ┆           ┆           │\n",
       "│ Mia        ┆ Science   ┆ Geography ┆ Physqcal   ┆ English    ┆ Null      ┆ null      ┆ null      │\n",
       "│ Johnson    ┆           ┆           ┆ Education  ┆            ┆           ┆           ┆           │\n",
       "│ Ella Young ┆ Math      ┆ Sciwnce   ┆ English    ┆ Physical   ┆ Physical  ┆ null      ┆ null      │\n",
       "│            ┆           ┆           ┆            ┆ Education  ┆ Education ┆           ┆           │\n",
       "│ Mila Hall  ┆ Geography ┆ Histpry   ┆ Physical   ┆ English    ┆ Physical  ┆ History   ┆ Geogrlphy │\n",
       "│            ┆           ┆           ┆ Education  ┆            ┆ Education ┆           ┆           │\n",
       "└────────────┴───────────┴───────────┴────────────┴────────────┴───────────┴───────────┴───────────┘"
      ]
     },
     "execution_count": 2,
     "metadata": {},
     "output_type": "execute_result"
    }
   ],
   "source": [
    "df = pl.read_csv('data/PD 2023 Wk 40 Input.csv')\n",
    "df.head()"
   ]
  },
  {
   "cell_type": "code",
   "execution_count": 3,
   "metadata": {},
   "outputs": [
    {
     "name": "stdout",
     "output_type": "stream",
     "text": [
      "Rows: 250\n",
      "Columns: 8\n",
      "$ Name            <str> 'Camila Johnson', 'Emma Taylor', 'Mia Johnson', 'Ella Young', 'Mila Hall', 'Emma Lewis', 'Camila Wilson', 'Avery Parker', 'Emily Garcia', 'Scarlett Adams'\n",
      "$ Class 1         <str> 'French', 'french', 'Science', 'Math', 'Geography', 'Math', 'History', 'Sciegce', 'Science', 'Geography'\n",
      "$ Class 2         <str> 'Science', 'History', 'Geography', 'Sciwnce', 'Histpry', 'English', 'Math', 'Geography', 'Physbcal Education', 'Mkth'\n",
      "$ Class 3         <str> 'English', 'Geography', 'Physqcal Education', 'English', 'Physical Education', 'French', 'Physical Education', 'Hiszory', 'Math', 'Physical Education'\n",
      "$ Class 4         <str> 'Math', 'Science', 'English', 'Physical Education', 'English', 'History', 'English', 'French', 'Geograpsy', 'Science'\n",
      "$ Dropped Class 1 <str> 'English', 'Null', 'Null', 'Physical Education', 'Physical Education', 'History', 'Null', 'French', 'Math', 'Sciance'\n",
      "$ Dropped Class 2 <str> 'Science', None, None, None, 'History', 'Fuench', None, 'History', 'Geography', None\n",
      "$ Dropped Class 3 <str> None, None, None, None, 'Geogrlphy', None, None, 'Science', None, None\n",
      "\n"
     ]
    }
   ],
   "source": [
    "df.glimpse()"
   ]
  },
  {
   "cell_type": "code",
   "execution_count": 4,
   "metadata": {},
   "outputs": [
    {
     "data": {
      "text/html": [
       "<div><style>\n",
       ".dataframe > thead > tr > th,\n",
       ".dataframe > tbody > tr > td {\n",
       "  text-align: right;\n",
       "  white-space: pre-wrap;\n",
       "}\n",
       "</style>\n",
       "<small>shape: (5, 4)</small><table border=\"1\" class=\"dataframe\"><thead><tr><th>Name</th><th>Class Type</th><th>Subject</th><th>Class Status</th></tr><tr><td>str</td><td>str</td><td>str</td><td>str</td></tr></thead><tbody><tr><td>&quot;Camila Johnson…</td><td>&quot;Class 1&quot;</td><td>&quot;French&quot;</td><td>&quot;Active&quot;</td></tr><tr><td>&quot;Emma Taylor&quot;</td><td>&quot;Class 1&quot;</td><td>&quot;French&quot;</td><td>&quot;Active&quot;</td></tr><tr><td>&quot;Mia Johnson&quot;</td><td>&quot;Class 1&quot;</td><td>&quot;Science&quot;</td><td>&quot;Active&quot;</td></tr><tr><td>&quot;Ella Young&quot;</td><td>&quot;Class 1&quot;</td><td>&quot;Math&quot;</td><td>&quot;Active&quot;</td></tr><tr><td>&quot;Mila Hall&quot;</td><td>&quot;Class 1&quot;</td><td>&quot;Geography&quot;</td><td>&quot;Active&quot;</td></tr></tbody></table></div>"
      ],
      "text/plain": [
       "shape: (5, 4)\n",
       "┌────────────────┬────────────┬───────────┬──────────────┐\n",
       "│ Name           ┆ Class Type ┆ Subject   ┆ Class Status │\n",
       "│ ---            ┆ ---        ┆ ---       ┆ ---          │\n",
       "│ str            ┆ str        ┆ str       ┆ str          │\n",
       "╞════════════════╪════════════╪═══════════╪══════════════╡\n",
       "│ Camila Johnson ┆ Class 1    ┆ French    ┆ Active       │\n",
       "│ Emma Taylor    ┆ Class 1    ┆ French    ┆ Active       │\n",
       "│ Mia Johnson    ┆ Class 1    ┆ Science   ┆ Active       │\n",
       "│ Ella Young     ┆ Class 1    ┆ Math      ┆ Active       │\n",
       "│ Mila Hall      ┆ Class 1    ┆ Geography ┆ Active       │\n",
       "└────────────────┴────────────┴───────────┴──────────────┘"
      ]
     },
     "execution_count": 4,
     "metadata": {},
     "output_type": "execute_result"
    }
   ],
   "source": [
    "class_df = (\n",
    "    df.melt(\n",
    "        id_vars='Name', \n",
    "        variable_name='Class Type', \n",
    "        value_name='Subject', \n",
    "        value_vars=df.columns[1:]\n",
    "    )\n",
    "    .with_columns(\n",
    "        # English\n",
    "        pl.when(\n",
    "            pl.col('Subject').str.starts_with('En')\n",
    "            |\n",
    "            pl.col('Subject').str.ends_with('sh')  \n",
    "        )\n",
    "        .then(pl.lit('English'))\n",
    "        # French\n",
    "        .when(\n",
    "            pl.col('Subject').str.starts_with('Fren') \n",
    "            |\n",
    "            pl.col('Subject').str.ends_with('ch')   \n",
    "        )\n",
    "        .then(pl.lit('French'))\n",
    "        # Geography\n",
    "        .when(\n",
    "            pl.col('Subject').str.starts_with('Ge') \n",
    "            |\n",
    "            pl.col('Subject').str.ends_with('phy')   \n",
    "        )\n",
    "        .then(pl.lit('Geography'))\n",
    "        # History\n",
    "        .when(\n",
    "            pl.col('Subject').str.starts_with('Hi') \n",
    "            |\n",
    "            pl.col('Subject').str.ends_with('ry')   \n",
    "        )\n",
    "        .then(pl.lit('History'))\n",
    "        # Math\n",
    "        .when(\n",
    "            pl.col('Subject').str.starts_with('M') \n",
    "            |\n",
    "            pl.col('Subject').str.ends_with('th')   \n",
    "        )\n",
    "        .then(pl.lit('Math'))\n",
    "        # Null\n",
    "        .when(\n",
    "            pl.col('Subject') == 'Null'\n",
    "        )\n",
    "        .then(pl.lit(None))\n",
    "        # Physical Education\n",
    "        .when(\n",
    "            pl.col('Subject').str.starts_with('Physi') |\n",
    "            pl.col('Subject').str.contains('sical') |\n",
    "            pl.col('Subject').str.contains('Edu') \n",
    "        )\n",
    "        .then(pl.lit('Physical Education'))\n",
    "        # Science\n",
    "        .when(\n",
    "            pl.col('Subject').str.starts_with('Sc') |\n",
    "            pl.col('Subject').str.contains('cie') |\n",
    "            pl.col('Subject').str.ends_with('ce') \n",
    "        )\n",
    "        .then(pl.lit('Science'))\n",
    "        .otherwise(pl.col('Subject')).alias('Subject'),\n",
    "        # a new column\n",
    "        pl.when(\n",
    "            pl.col('Class Type').str.starts_with('Dropped')\n",
    "        )\n",
    "        .then(pl.lit('Dropped'))\n",
    "        .otherwise(pl.lit('Active'))\n",
    "        .alias('Class Status')\n",
    "    )\n",
    "    .filter(pl.col('Subject').is_not_null())\n",
    ")\n",
    "class_df.head()"
   ]
  },
  {
   "cell_type": "code",
   "execution_count": 22,
   "metadata": {},
   "outputs": [
    {
     "data": {
      "text/html": [
       "<div><style>\n",
       ".dataframe > thead > tr > th,\n",
       ".dataframe > tbody > tr > td {\n",
       "  text-align: right;\n",
       "  white-space: pre-wrap;\n",
       "}\n",
       "</style>\n",
       "<small>shape: (7, 5)</small><table border=\"1\" class=\"dataframe\"><thead><tr><th>Subject</th><th>Dropped</th><th>Active</th><th>Total Enrolled</th><th>Dropped Rate</th></tr><tr><td>str</td><td>u32</td><td>u32</td><td>u32</td><td>f64</td></tr></thead><tbody><tr><td>&quot;Math&quot;</td><td>64</td><td>150</td><td>214</td><td>0.299</td></tr><tr><td>&quot;Geography&quot;</td><td>65</td><td>154</td><td>219</td><td>0.297</td></tr><tr><td>&quot;Physical Educa…</td><td>59</td><td>143</td><td>202</td><td>0.292</td></tr><tr><td>&quot;History&quot;</td><td>63</td><td>155</td><td>218</td><td>0.289</td></tr><tr><td>&quot;French&quot;</td><td>55</td><td>141</td><td>196</td><td>0.281</td></tr><tr><td>&quot;Science&quot;</td><td>47</td><td>129</td><td>176</td><td>0.267</td></tr><tr><td>&quot;English&quot;</td><td>44</td><td>128</td><td>172</td><td>0.256</td></tr></tbody></table></div>"
      ],
      "text/plain": [
       "shape: (7, 5)\n",
       "┌────────────────────┬─────────┬────────┬────────────────┬──────────────┐\n",
       "│ Subject            ┆ Dropped ┆ Active ┆ Total Enrolled ┆ Dropped Rate │\n",
       "│ ---                ┆ ---     ┆ ---    ┆ ---            ┆ ---          │\n",
       "│ str                ┆ u32     ┆ u32    ┆ u32            ┆ f64          │\n",
       "╞════════════════════╪═════════╪════════╪════════════════╪══════════════╡\n",
       "│ Math               ┆ 64      ┆ 150    ┆ 214            ┆ 0.299        │\n",
       "│ Geography          ┆ 65      ┆ 154    ┆ 219            ┆ 0.297        │\n",
       "│ Physical Education ┆ 59      ┆ 143    ┆ 202            ┆ 0.292        │\n",
       "│ History            ┆ 63      ┆ 155    ┆ 218            ┆ 0.289        │\n",
       "│ French             ┆ 55      ┆ 141    ┆ 196            ┆ 0.281        │\n",
       "│ Science            ┆ 47      ┆ 129    ┆ 176            ┆ 0.267        │\n",
       "│ English            ┆ 44      ┆ 128    ┆ 172            ┆ 0.256        │\n",
       "└────────────────────┴─────────┴────────┴────────────────┴──────────────┘"
      ]
     },
     "execution_count": 22,
     "metadata": {},
     "output_type": "execute_result"
    }
   ],
   "source": [
    "agg_df = (\n",
    "    class_df\n",
    "    .group_by('Subject')\n",
    "    .agg(\n",
    "        pl.col('Class Status').filter(pl.col('Class Status')=='Dropped').count().alias('Dropped'),\n",
    "        pl.col('Class Status').filter(pl.col('Class Status')=='Active').count().alias('Active'),\n",
    "        pl.count().alias('Total Enrolled')\n",
    "    )\n",
    "    .with_columns(\n",
    "        (pl.col('Dropped') / pl.col('Total Enrolled')).round(3).alias('Dropped Rate')\n",
    "    )\n",
    "    .sort('Dropped Rate', descending=True)\n",
    ")\n",
    "agg_df"
   ]
  },
  {
   "cell_type": "code",
   "execution_count": null,
   "metadata": {},
   "outputs": [],
   "source": []
  }
 ],
 "metadata": {
  "kernelspec": {
   "display_name": "env",
   "language": "python",
   "name": "python3"
  },
  "language_info": {
   "codemirror_mode": {
    "name": "ipython",
    "version": 3
   },
   "file_extension": ".py",
   "mimetype": "text/x-python",
   "name": "python",
   "nbconvert_exporter": "python",
   "pygments_lexer": "ipython3",
   "version": "3.11.3"
  }
 },
 "nbformat": 4,
 "nbformat_minor": 2
}
