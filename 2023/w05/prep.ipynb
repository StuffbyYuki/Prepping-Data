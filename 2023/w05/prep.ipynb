{
 "cells": [
  {
   "cell_type": "code",
   "execution_count": 1,
   "metadata": {},
   "outputs": [],
   "source": [
    "import polars as pl"
   ]
  },
  {
   "cell_type": "code",
   "execution_count": 9,
   "metadata": {},
   "outputs": [
    {
     "data": {
      "text/html": [
       "<div><style>\n",
       ".dataframe > thead > tr > th,\n",
       ".dataframe > tbody > tr > td {\n",
       "  text-align: right;\n",
       "  white-space: pre-wrap;\n",
       "}\n",
       "</style>\n",
       "<small>shape: (5, 5)</small><table border=\"1\" class=\"dataframe\"><thead><tr><th>Transaction Code</th><th>Value</th><th>Customer Code</th><th>Online or In-Person</th><th>Transaction Date</th></tr><tr><td>str</td><td>i64</td><td>i64</td><td>i64</td><td>datetime[μs]</td></tr></thead><tbody><tr><td>&quot;DTB-716-679-57…</td><td>1448</td><td>100001</td><td>2</td><td>2023-03-20 00:00:00</td></tr><tr><td>&quot;DS-795-814-303…</td><td>7839</td><td>100001</td><td>2</td><td>2023-11-15 00:00:00</td></tr><tr><td>&quot;DSB-807-592-40…</td><td>5520</td><td>100005</td><td>1</td><td>2023-07-14 00:00:00</td></tr><tr><td>&quot;DS-367-545-264…</td><td>7957</td><td>100007</td><td>2</td><td>2023-08-18 00:00:00</td></tr><tr><td>&quot;DSB-474-374-85…</td><td>5375</td><td>100000</td><td>2</td><td>2023-08-26 00:00:00</td></tr></tbody></table></div>"
      ],
      "text/plain": [
       "shape: (5, 5)\n",
       "┌──────────────────┬───────┬───────────────┬─────────────────────┬─────────────────────┐\n",
       "│ Transaction Code ┆ Value ┆ Customer Code ┆ Online or In-Person ┆ Transaction Date    │\n",
       "│ ---              ┆ ---   ┆ ---           ┆ ---                 ┆ ---                 │\n",
       "│ str              ┆ i64   ┆ i64           ┆ i64                 ┆ datetime[μs]        │\n",
       "╞══════════════════╪═══════╪═══════════════╪═════════════════════╪═════════════════════╡\n",
       "│ DTB-716-679-576  ┆ 1448  ┆ 100001        ┆ 2                   ┆ 2023-03-20 00:00:00 │\n",
       "│ DS-795-814-303   ┆ 7839  ┆ 100001        ┆ 2                   ┆ 2023-11-15 00:00:00 │\n",
       "│ DSB-807-592-406  ┆ 5520  ┆ 100005        ┆ 1                   ┆ 2023-07-14 00:00:00 │\n",
       "│ DS-367-545-264   ┆ 7957  ┆ 100007        ┆ 2                   ┆ 2023-08-18 00:00:00 │\n",
       "│ DSB-474-374-857  ┆ 5375  ┆ 100000        ┆ 2                   ┆ 2023-08-26 00:00:00 │\n",
       "└──────────────────┴───────┴───────────────┴─────────────────────┴─────────────────────┘"
      ]
     },
     "execution_count": 9,
     "metadata": {},
     "output_type": "execute_result"
    }
   ],
   "source": [
    "df = pl.read_csv('data/bank_transactions.csv', try_parse_dates=True)\n",
    "df.head()"
   ]
  },
  {
   "cell_type": "code",
   "execution_count": 37,
   "metadata": {},
   "outputs": [
    {
     "data": {
      "text/html": [
       "<div><style>\n",
       ".dataframe > thead > tr > th,\n",
       ".dataframe > tbody > tr > td {\n",
       "  text-align: right;\n",
       "  white-space: pre-wrap;\n",
       "}\n",
       "</style>\n",
       "<small>shape: (36, 6)</small><table border=\"1\" class=\"dataframe\"><thead><tr><th>Bank</th><th>Transaction Month</th><th>Value</th><th>Bank Rank per Month</th><th>Avg Rank per Bank</th><th>Avg Transaction Value per Rank</th></tr><tr><td>str</td><td>str</td><td>i64</td><td>u32</td><td>f64</td><td>i32</td></tr></thead><tbody><tr><td>&quot;DSB&quot;</td><td>&quot;July&quot;</td><td>71515</td><td>1</td><td>2.33</td><td>66968</td></tr><tr><td>&quot;DSB&quot;</td><td>&quot;April&quot;</td><td>30317</td><td>3</td><td>2.33</td><td>34621</td></tr><tr><td>&quot;DTB&quot;</td><td>&quot;October&quot;</td><td>58924</td><td>2</td><td>1.75</td><td>48634</td></tr><tr><td>&quot;DSB&quot;</td><td>&quot;January&quot;</td><td>45036</td><td>3</td><td>2.33</td><td>34621</td></tr><tr><td>&quot;DSB&quot;</td><td>&quot;February&quot;</td><td>28622</td><td>3</td><td>2.33</td><td>34621</td></tr><tr><td>&quot;DTB&quot;</td><td>&quot;March&quot;</td><td>80358</td><td>1</td><td>1.75</td><td>66968</td></tr><tr><td>&quot;DS&quot;</td><td>&quot;November&quot;</td><td>96868</td><td>1</td><td>1.92</td><td>66968</td></tr><tr><td>&quot;DS&quot;</td><td>&quot;May&quot;</td><td>38715</td><td>3</td><td>1.92</td><td>34621</td></tr><tr><td>&quot;DS&quot;</td><td>&quot;September&quot;</td><td>41996</td><td>1</td><td>1.92</td><td>66968</td></tr><tr><td>&quot;DSB&quot;</td><td>&quot;December&quot;</td><td>20785</td><td>3</td><td>2.33</td><td>34621</td></tr><tr><td>&quot;DSB&quot;</td><td>&quot;August&quot;</td><td>38167</td><td>3</td><td>2.33</td><td>34621</td></tr><tr><td>&quot;DSB&quot;</td><td>&quot;June&quot;</td><td>64642</td><td>1</td><td>2.33</td><td>66968</td></tr><tr><td>&hellip;</td><td>&hellip;</td><td>&hellip;</td><td>&hellip;</td><td>&hellip;</td><td>&hellip;</td></tr><tr><td>&quot;DTB&quot;</td><td>&quot;April&quot;</td><td>42360</td><td>1</td><td>1.75</td><td>66968</td></tr><tr><td>&quot;DSB&quot;</td><td>&quot;October&quot;</td><td>41707</td><td>3</td><td>2.33</td><td>34621</td></tr><tr><td>&quot;DSB&quot;</td><td>&quot;May&quot;</td><td>45000</td><td>2</td><td>2.33</td><td>48634</td></tr><tr><td>&quot;DSB&quot;</td><td>&quot;November&quot;</td><td>42639</td><td>2</td><td>2.33</td><td>48634</td></tr><tr><td>&quot;DS&quot;</td><td>&quot;December&quot;</td><td>33952</td><td>2</td><td>1.92</td><td>48634</td></tr><tr><td>&quot;DSB&quot;</td><td>&quot;September&quot;</td><td>23579</td><td>2</td><td>2.33</td><td>48634</td></tr><tr><td>&quot;DS&quot;</td><td>&quot;January&quot;</td><td>50207</td><td>2</td><td>1.92</td><td>48634</td></tr><tr><td>&quot;DS&quot;</td><td>&quot;July&quot;</td><td>55002</td><td>3</td><td>1.92</td><td>34621</td></tr><tr><td>&quot;DTB&quot;</td><td>&quot;August&quot;</td><td>66063</td><td>2</td><td>1.75</td><td>48634</td></tr><tr><td>&quot;DTB&quot;</td><td>&quot;June&quot;</td><td>19720</td><td>3</td><td>1.75</td><td>34621</td></tr><tr><td>&quot;DS&quot;</td><td>&quot;April&quot;</td><td>40785</td><td>2</td><td>1.92</td><td>48634</td></tr><tr><td>&quot;DS&quot;</td><td>&quot;February&quot;</td><td>31204</td><td>2</td><td>1.92</td><td>48634</td></tr></tbody></table></div>"
      ],
      "text/plain": [
       "shape: (36, 6)\n",
       "┌──────┬───────────────────┬───────┬─────────────────────┬───────────────────┬─────────────────┐\n",
       "│ Bank ┆ Transaction Month ┆ Value ┆ Bank Rank per Month ┆ Avg Rank per Bank ┆ Avg Transaction │\n",
       "│ ---  ┆ ---               ┆ ---   ┆ ---                 ┆ ---               ┆ Value per Rank  │\n",
       "│ str  ┆ str               ┆ i64   ┆ u32                 ┆ f64               ┆ ---             │\n",
       "│      ┆                   ┆       ┆                     ┆                   ┆ i32             │\n",
       "╞══════╪═══════════════════╪═══════╪═════════════════════╪═══════════════════╪═════════════════╡\n",
       "│ DSB  ┆ July              ┆ 71515 ┆ 1                   ┆ 2.33              ┆ 66968           │\n",
       "│ DSB  ┆ April             ┆ 30317 ┆ 3                   ┆ 2.33              ┆ 34621           │\n",
       "│ DTB  ┆ October           ┆ 58924 ┆ 2                   ┆ 1.75              ┆ 48634           │\n",
       "│ DSB  ┆ January           ┆ 45036 ┆ 3                   ┆ 2.33              ┆ 34621           │\n",
       "│ …    ┆ …                 ┆ …     ┆ …                   ┆ …                 ┆ …               │\n",
       "│ DTB  ┆ August            ┆ 66063 ┆ 2                   ┆ 1.75              ┆ 48634           │\n",
       "│ DTB  ┆ June              ┆ 19720 ┆ 3                   ┆ 1.75              ┆ 34621           │\n",
       "│ DS   ┆ April             ┆ 40785 ┆ 2                   ┆ 1.92              ┆ 48634           │\n",
       "│ DS   ┆ February          ┆ 31204 ┆ 2                   ┆ 1.92              ┆ 48634           │\n",
       "└──────┴───────────────────┴───────┴─────────────────────┴───────────────────┴─────────────────┘"
      ]
     },
     "execution_count": 37,
     "metadata": {},
     "output_type": "execute_result"
    }
   ],
   "source": [
    "month_dict = {\n",
    "    1: \"January\",\n",
    "    2: \"February\",\n",
    "    3: \"March\",\n",
    "    4: \"April\",\n",
    "    5: \"May\",\n",
    "    6: \"June\",\n",
    "    7: \"July\",\n",
    "    8: \"August\",\n",
    "    9: \"September\",\n",
    "    10: \"October\",\n",
    "    11: \"November\",\n",
    "    12: \"December\"\n",
    "}\n",
    "\n",
    "output_df = (\n",
    "    df\n",
    "    .with_columns(\n",
    "        pl.col('Transaction Code').str.split('-').list.get(0).alias('Bank'),\n",
    "        pl.col('Transaction Date').dt.month().map_dict(month_dict).alias('Transaction Month')\n",
    "    )\n",
    "    .group_by('Bank', 'Transaction Month')\n",
    "    .agg(pl.col('Value').sum())\n",
    "    .with_columns(\n",
    "        pl.col('Value').rank(\"dense\", descending=True).over('Transaction Month').alias('Bank Rank per Month')\n",
    "    )\n",
    "    .with_columns(\n",
    "        pl.col('Bank Rank per Month').mean().over('Bank').round(2).alias('Avg Rank per Bank'),\n",
    "        pl.col('Value').mean().over('Bank Rank per Month').round().cast(pl.Int32).alias('Avg Transaction Value per Rank')\n",
    "    )\n",
    ")\n",
    "output_df"
   ]
  },
  {
   "cell_type": "code",
   "execution_count": null,
   "metadata": {},
   "outputs": [],
   "source": []
  }
 ],
 "metadata": {
  "kernelspec": {
   "display_name": "env",
   "language": "python",
   "name": "python3"
  },
  "language_info": {
   "codemirror_mode": {
    "name": "ipython",
    "version": 3
   },
   "file_extension": ".py",
   "mimetype": "text/x-python",
   "name": "python",
   "nbconvert_exporter": "python",
   "pygments_lexer": "ipython3",
   "version": "3.11.3"
  }
 },
 "nbformat": 4,
 "nbformat_minor": 2
}
