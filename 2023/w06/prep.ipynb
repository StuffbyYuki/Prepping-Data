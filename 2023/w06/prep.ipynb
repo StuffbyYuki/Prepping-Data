{
 "cells": [
  {
   "cell_type": "code",
   "execution_count": 1,
   "metadata": {},
   "outputs": [],
   "source": [
    "import polars as pl"
   ]
  },
  {
   "cell_type": "code",
   "execution_count": 57,
   "metadata": {},
   "outputs": [],
   "source": [
    "df = pl.read_csv('data/DSB Customer Survey.csv')"
   ]
  },
  {
   "cell_type": "code",
   "execution_count": 58,
   "metadata": {},
   "outputs": [
    {
     "data": {
      "text/html": [
       "<div><style>\n",
       ".dataframe > thead > tr > th,\n",
       ".dataframe > tbody > tr > td {\n",
       "  text-align: right;\n",
       "  white-space: pre-wrap;\n",
       "}\n",
       "</style>\n",
       "<small>shape: (5, 11)</small><table border=\"1\" class=\"dataframe\"><thead><tr><th>Customer ID</th><th>Mobile App - Ease of Use</th><th>Mobile App - Ease of Access</th><th>Mobile App - Navigation</th><th>Mobile App - Likelihood to Recommend</th><th>Mobile App - Overall Rating</th><th>Online Interface - Ease of Use</th><th>Online Interface - Ease of Access</th><th>Online Interface - Navigation</th><th>Online Interface - Likelihood to Recommend</th><th>Online Interface - Overall Rating</th></tr><tr><td>i64</td><td>i64</td><td>i64</td><td>i64</td><td>i64</td><td>i64</td><td>i64</td><td>i64</td><td>i64</td><td>i64</td><td>i64</td></tr></thead><tbody><tr><td>101646</td><td>3</td><td>5</td><td>2</td><td>4</td><td>5</td><td>2</td><td>4</td><td>3</td><td>4</td><td>2</td></tr><tr><td>101650</td><td>1</td><td>4</td><td>2</td><td>2</td><td>2</td><td>4</td><td>5</td><td>1</td><td>2</td><td>5</td></tr><tr><td>105088</td><td>5</td><td>1</td><td>5</td><td>3</td><td>1</td><td>5</td><td>5</td><td>5</td><td>2</td><td>5</td></tr><tr><td>109306</td><td>1</td><td>4</td><td>2</td><td>1</td><td>2</td><td>1</td><td>2</td><td>1</td><td>4</td><td>1</td></tr><tr><td>110719</td><td>3</td><td>3</td><td>5</td><td>1</td><td>3</td><td>5</td><td>5</td><td>1</td><td>3</td><td>1</td></tr></tbody></table></div>"
      ],
      "text/plain": [
       "shape: (5, 11)\n",
       "┌───────────┬───────────┬───────────┬───────────┬───┬───────────┬───────────┬───────────┬──────────┐\n",
       "│ Customer  ┆ Mobile    ┆ Mobile    ┆ Mobile    ┆ … ┆ Online    ┆ Online    ┆ Online    ┆ Online   │\n",
       "│ ID        ┆ App -     ┆ App -     ┆ App - Nav ┆   ┆ Interface ┆ Interface ┆ Interface ┆ Interfac │\n",
       "│ ---       ┆ Ease of   ┆ Ease of   ┆ igation   ┆   ┆ - Ease of ┆ - Navigat ┆ - Likelih ┆ e -      │\n",
       "│ i64       ┆ Use       ┆ Access    ┆ ---       ┆   ┆ Acces…    ┆ ion       ┆ ood to…   ┆ Overall  │\n",
       "│           ┆ ---       ┆ ---       ┆ i64       ┆   ┆ ---       ┆ ---       ┆ ---       ┆ Ratin…   │\n",
       "│           ┆ i64       ┆ i64       ┆           ┆   ┆ i64       ┆ i64       ┆ i64       ┆ ---      │\n",
       "│           ┆           ┆           ┆           ┆   ┆           ┆           ┆           ┆ i64      │\n",
       "╞═══════════╪═══════════╪═══════════╪═══════════╪═══╪═══════════╪═══════════╪═══════════╪══════════╡\n",
       "│ 101646    ┆ 3         ┆ 5         ┆ 2         ┆ … ┆ 4         ┆ 3         ┆ 4         ┆ 2        │\n",
       "│ 101650    ┆ 1         ┆ 4         ┆ 2         ┆ … ┆ 5         ┆ 1         ┆ 2         ┆ 5        │\n",
       "│ 105088    ┆ 5         ┆ 1         ┆ 5         ┆ … ┆ 5         ┆ 5         ┆ 2         ┆ 5        │\n",
       "│ 109306    ┆ 1         ┆ 4         ┆ 2         ┆ … ┆ 2         ┆ 1         ┆ 4         ┆ 1        │\n",
       "│ 110719    ┆ 3         ┆ 3         ┆ 5         ┆ … ┆ 5         ┆ 1         ┆ 3         ┆ 1        │\n",
       "└───────────┴───────────┴───────────┴───────────┴───┴───────────┴───────────┴───────────┴──────────┘"
      ]
     },
     "execution_count": 58,
     "metadata": {},
     "output_type": "execute_result"
    }
   ],
   "source": [
    "df.sort('Customer ID').head()"
   ]
  },
  {
   "cell_type": "code",
   "execution_count": 115,
   "metadata": {},
   "outputs": [
    {
     "name": "stdout",
     "output_type": "stream",
     "text": [
      "shape: (5, 3)\n",
      "┌───────────────────────────┬───────┬────────────┐\n",
      "│ Preference                ┆ count ┆ % of Total │\n",
      "│ ---                       ┆ ---   ┆ ---        │\n",
      "│ str                       ┆ u32   ┆ f64        │\n",
      "╞═══════════════════════════╪═══════╪════════════╡\n",
      "│ Neutral                   ┆ 1956  ┆ 63.7       │\n",
      "│ Online Interface Fan      ┆ 452   ┆ 14.7       │\n",
      "│ Online Interface Superfan ┆ 80    ┆ 2.6        │\n",
      "│ Mobile App Superfan       ┆ 80    ┆ 2.6        │\n",
      "│ Mobile App Fan            ┆ 504   ┆ 16.4       │\n",
      "└───────────────────────────┴───────┴────────────┘\n"
     ]
    }
   ],
   "source": [
    "mobile_cols = [col for col in df.columns if 'Mobile' in col]\n",
    "online_cols = [col for col in df.columns if 'Online' in col]\n",
    "\n",
    "mobile = (\n",
    "    df.melt(\n",
    "        id_vars='Customer ID', \n",
    "        value_vars=online_cols, \n",
    "        variable_name='Functionality', \n",
    "        value_name='Online Score'\n",
    "    )\n",
    "    .with_columns(\n",
    "        pl.col('Functionality').str.split(' - ').list.get(1),\n",
    "        pl.lit('Online').alias('Platform')\n",
    "    )\n",
    ")\n",
    "\n",
    "online = (\n",
    "    df.melt(\n",
    "        id_vars='Customer ID', \n",
    "        value_vars=mobile_cols, \n",
    "        variable_name='Functionality', \n",
    "        value_name='Mobile Score'\n",
    "    )\n",
    "    .with_columns(\n",
    "        pl.col('Functionality').str.split(' - ').list.get(1),\n",
    "        pl.lit('Mobile').alias('Platform')\n",
    "    )\n",
    ")\n",
    "\n",
    "cleaned = (\n",
    "    mobile\n",
    "    .join(online, how='inner', on=['Customer ID', 'Functionality'])\n",
    "    .filter(\n",
    "        pl.col('Functionality').ne('Overall Rating')\n",
    "    )\n",
    "    .with_columns(\n",
    "        pl.col('Mobile Score').mean().over('Customer ID', 'Platform').alias('Mobile Avg Rating'),\n",
    "        pl.col('Online Score').mean().over('Customer ID', 'Platform').alias('Online Avg Rating')\n",
    "    )\n",
    "    .with_columns(\n",
    "        (pl.col('Online Avg Rating') - pl.col('Mobile Avg Rating')).alias('Rating Diff')\n",
    "    )\n",
    "    .with_columns(\n",
    "        pl.when(pl.col('Rating Diff').le(-2)).then(pl.lit('Mobile App Superfan'))\n",
    "        .when(pl.col('Rating Diff').le(-1)).then(pl.lit('Mobile App Fan'))\n",
    "        .when(pl.col('Rating Diff').ge(2)).then(pl.lit('Online Interface Superfan'))\n",
    "        .when(pl.col('Rating Diff').ge(1)).then(pl.lit('Online Interface Fan'))\n",
    "        .when(pl.col('Rating Diff').is_between(-1, 1)).then(pl.lit('Neutral'))\n",
    "        .alias('Preference')\n",
    "    )\n",
    "    .group_by('Preference')\n",
    "    .agg(pl.count())\n",
    "    .select(\n",
    "        'Preference',\n",
    "        (pl.col('count') / pl.sum('count') * 100).round(1).alias('% of Total')\n",
    "    )\n",
    ")\n",
    "print(cleaned.head())"
   ]
  },
  {
   "cell_type": "code",
   "execution_count": null,
   "metadata": {},
   "outputs": [],
   "source": []
  }
 ],
 "metadata": {
  "kernelspec": {
   "display_name": "env",
   "language": "python",
   "name": "python3"
  },
  "language_info": {
   "codemirror_mode": {
    "name": "ipython",
    "version": 3
   },
   "file_extension": ".py",
   "mimetype": "text/x-python",
   "name": "python",
   "nbconvert_exporter": "python",
   "pygments_lexer": "ipython3",
   "version": "3.11.3"
  }
 },
 "nbformat": 4,
 "nbformat_minor": 2
}
