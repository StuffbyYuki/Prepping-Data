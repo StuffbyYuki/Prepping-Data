{
 "cells": [
  {
   "cell_type": "code",
   "execution_count": 1,
   "metadata": {},
   "outputs": [],
   "source": [
    "import polars as pl"
   ]
  },
  {
   "cell_type": "code",
   "execution_count": 4,
   "metadata": {},
   "outputs": [
    {
     "data": {
      "text/html": [
       "<div><style>\n",
       ".dataframe > thead > tr,\n",
       ".dataframe > tbody > tr {\n",
       "  text-align: right;\n",
       "  white-space: pre-wrap;\n",
       "}\n",
       "</style>\n",
       "<small>shape: (5, 10)</small><table border=\"1\" class=\"dataframe\"><thead><tr><th>id</th><th>first_name</th><th>last_name</th><th>Ticker</th><th>Sector</th><th>Market</th><th>Stock Name</th><th>Market Cap</th><th>Purchase Price</th><th>file date</th></tr><tr><td>i64</td><td>str</td><td>str</td><td>str</td><td>str</td><td>str</td><td>str</td><td>str</td><td>str</td><td>i32</td></tr></thead><tbody><tr><td>588</td><td>&quot;Caterina&quot;</td><td>&quot;McHardy&quot;</td><td>&quot;BSAC&quot;</td><td>&quot;Finance&quot;</td><td>&quot;NYSE&quot;</td><td>&quot;Banco Santande…</td><td>&quot;$11.96B&quot;</td><td>&quot;$24647.37&quot;</td><td>1</td></tr><tr><td>588</td><td>&quot;Job&quot;</td><td>&quot;Burchett&quot;</td><td>&quot;TOPS&quot;</td><td>&quot;Transportation…</td><td>&quot;NASDAQ&quot;</td><td>&quot;TOP Ships Inc.…</td><td>&quot;$392729.7&quot;</td><td>&quot;$18062.27&quot;</td><td>11</td></tr><tr><td>588</td><td>&quot;Garfield&quot;</td><td>&quot;Cookney&quot;</td><td>&quot;SYX&quot;</td><td>&quot;Consumer Servi…</td><td>&quot;NYSE&quot;</td><td>&quot;Systemax Inc.&quot;</td><td>&quot;$685.51M&quot;</td><td>&quot;$91588.34&quot;</td><td>3</td></tr><tr><td>588</td><td>&quot;Ephrem&quot;</td><td>&quot;Ricards&quot;</td><td>&quot;GJV&quot;</td><td>&quot;Finance&quot;</td><td>&quot;NYSE&quot;</td><td>&quot;Synthetic Fixe…</td><td>&quot;n/a&quot;</td><td>&quot;$43250.18&quot;</td><td>2</td></tr><tr><td>588</td><td>&quot;Tilda&quot;</td><td>&quot;De Paoli&quot;</td><td>&quot;JNPR&quot;</td><td>&quot;Technology&quot;</td><td>&quot;NYSE&quot;</td><td>&quot;Juniper Networ…</td><td>&quot;$10.95B&quot;</td><td>&quot;$83211.49&quot;</td><td>10</td></tr></tbody></table></div>"
      ],
      "text/plain": [
       "shape: (5, 10)\n",
       "┌─────┬────────────┬───────────┬────────┬───┬─────────────────┬────────────┬───────────┬───────────┐\n",
       "│ id  ┆ first_name ┆ last_name ┆ Ticker ┆ … ┆ Stock Name      ┆ Market Cap ┆ Purchase  ┆ file date │\n",
       "│ --- ┆ ---        ┆ ---       ┆ ---    ┆   ┆ ---             ┆ ---        ┆ Price     ┆ ---       │\n",
       "│ i64 ┆ str        ┆ str       ┆ str    ┆   ┆ str             ┆ str        ┆ ---       ┆ i32       │\n",
       "│     ┆            ┆           ┆        ┆   ┆                 ┆            ┆ str       ┆           │\n",
       "╞═════╪════════════╪═══════════╪════════╪═══╪═════════════════╪════════════╪═══════════╪═══════════╡\n",
       "│ 588 ┆ Caterina   ┆ McHardy   ┆ BSAC   ┆ … ┆ Banco Santander ┆ $11.96B    ┆ $24647.37 ┆ 1         │\n",
       "│     ┆            ┆           ┆        ┆   ┆ Chile           ┆            ┆           ┆           │\n",
       "│ 588 ┆ Job        ┆ Burchett  ┆ TOPS   ┆ … ┆ TOP Ships Inc.  ┆ $392729.7  ┆ $18062.27 ┆ 11        │\n",
       "│ 588 ┆ Garfield   ┆ Cookney   ┆ SYX    ┆ … ┆ Systemax Inc.   ┆ $685.51M   ┆ $91588.34 ┆ 3         │\n",
       "│ 588 ┆ Ephrem     ┆ Ricards   ┆ GJV    ┆ … ┆ Synthetic       ┆ n/a        ┆ $43250.18 ┆ 2         │\n",
       "│     ┆            ┆           ┆        ┆   ┆ Fixed-Income    ┆            ┆           ┆           │\n",
       "│     ┆            ┆           ┆        ┆   ┆ Securitie…      ┆            ┆           ┆           │\n",
       "│ 588 ┆ Tilda      ┆ De Paoli  ┆ JNPR   ┆ … ┆ Juniper         ┆ $10.95B    ┆ $83211.49 ┆ 10        │\n",
       "│     ┆            ┆           ┆        ┆   ┆ Networks, Inc.  ┆            ┆           ┆           │\n",
       "└─────┴────────────┴───────────┴────────┴───┴─────────────────┴────────────┴───────────┴───────────┘"
      ]
     },
     "execution_count": 4,
     "metadata": {},
     "output_type": "execute_result"
    }
   ],
   "source": [
    "import glob\n",
    "\n",
    "queries = []\n",
    "for file in glob.glob('data/*.csv'):\n",
    "    splitted_file_name = file.split('-')\n",
    "    month = int(splitted_file_name[1].split('.')[0]) if len(splitted_file_name) > 1 else 1\n",
    "    q = pl.scan_csv(file).with_columns(pl.lit(month).alias('file date'))\n",
    "    queries.append(q)\n",
    "\n",
    "df = pl.concat(pl.collect_all(queries))\n",
    "df.filter(pl.col('id')==588).head()"
   ]
  },
  {
   "cell_type": "code",
   "execution_count": 8,
   "metadata": {},
   "outputs": [
    {
     "data": {
      "text/html": [
       "<div><style>\n",
       ".dataframe > thead > tr,\n",
       ".dataframe > tbody > tr {\n",
       "  text-align: right;\n",
       "  white-space: pre-wrap;\n",
       "}\n",
       "</style>\n",
       "<small>shape: (831, 13)</small><table border=\"1\" class=\"dataframe\"><thead><tr><th>id</th><th>first_name</th><th>last_name</th><th>Ticker</th><th>Sector</th><th>Market</th><th>Stock Name</th><th>Market Cap</th><th>Purchase Price</th><th>file date</th><th>Purchase Price Category</th><th>Market Cap Category</th><th>Rank</th></tr><tr><td>i64</td><td>str</td><td>str</td><td>str</td><td>str</td><td>str</td><td>str</td><td>i64</td><td>f64</td><td>i32</td><td>str</td><td>str</td><td>u32</td></tr></thead><tbody><tr><td>14</td><td>&quot;Erminie&quot;</td><td>&quot;Lis&quot;</td><td>&quot;JHD&quot;</td><td>&quot;n/a&quot;</td><td>&quot;NYSE&quot;</td><td>&quot;Nuveen High In…</td><td>277100000</td><td>24418.39</td><td>1</td><td>&quot;Low&quot;</td><td>&quot;Medium&quot;</td><td>2</td></tr><tr><td>22</td><td>&quot;Davin&quot;</td><td>&quot;Rusling&quot;</td><td>&quot;LINK&quot;</td><td>&quot;Technology&quot;</td><td>&quot;NASDAQ&quot;</td><td>&quot;Interlink Elec…</td><td>60660000</td><td>23502.42</td><td>1</td><td>&quot;Low&quot;</td><td>&quot;Small&quot;</td><td>4</td></tr><tr><td>54</td><td>&quot;Jany&quot;</td><td>&quot;Hancke&quot;</td><td>&quot;CSOD&quot;</td><td>&quot;Technology&quot;</td><td>&quot;NASDAQ&quot;</td><td>&quot;Cornerstone On…</td><td>2089999999</td><td>74079.42</td><td>1</td><td>&quot;High&quot;</td><td>&quot;Large&quot;</td><td>5</td></tr><tr><td>107</td><td>&quot;Chico&quot;</td><td>&quot;De Maria&quot;</td><td>&quot;CBA           …</td><td>&quot;n/a&quot;</td><td>&quot;NYSE&quot;</td><td>&quot;ClearBridge Am…</td><td>508590000</td><td>48507.84</td><td>1</td><td>&quot;Medium&quot;</td><td>&quot;Medium&quot;</td><td>5</td></tr><tr><td>120</td><td>&quot;Nealson&quot;</td><td>&quot;Hosburn&quot;</td><td>&quot;VSTM&quot;</td><td>&quot;Health Care&quot;</td><td>&quot;NASDAQ&quot;</td><td>&quot;Verastem, Inc.…</td><td>74720000</td><td>74416.07</td><td>1</td><td>&quot;High&quot;</td><td>&quot;Small&quot;</td><td>3</td></tr><tr><td>125</td><td>&quot;Margret&quot;</td><td>&quot;Harry&quot;</td><td>&quot;SHOP&quot;</td><td>&quot;Technology&quot;</td><td>&quot;NYSE&quot;</td><td>&quot;Shopify Inc.&quot;</td><td>7350000000</td><td>49796.86</td><td>1</td><td>&quot;Medium&quot;</td><td>&quot;Large&quot;</td><td>1</td></tr><tr><td>138</td><td>&quot;Luciano&quot;</td><td>&quot;Girauld&quot;</td><td>&quot;PANL&quot;</td><td>&quot;Transportation…</td><td>&quot;NASDAQ&quot;</td><td>&quot;Pangaea Logist…</td><td>99120000</td><td>24071.47</td><td>1</td><td>&quot;Low&quot;</td><td>&quot;Small&quot;</td><td>1</td></tr><tr><td>148</td><td>&quot;Mickie&quot;</td><td>&quot;Brack&quot;</td><td>&quot;AR&quot;</td><td>&quot;Energy&quot;</td><td>&quot;NYSE&quot;</td><td>&quot;Antero Resourc…</td><td>7130000000</td><td>49504.15</td><td>1</td><td>&quot;Medium&quot;</td><td>&quot;Large&quot;</td><td>3</td></tr><tr><td>154</td><td>&quot;Sherline&quot;</td><td>&quot;Vowels&quot;</td><td>&quot;IZEA&quot;</td><td>&quot;Consumer Servi…</td><td>&quot;NASDAQ&quot;</td><td>&quot;IZEA Inc.&quot;</td><td>12380000</td><td>48496.19</td><td>1</td><td>&quot;Medium&quot;</td><td>&quot;Small&quot;</td><td>1</td></tr><tr><td>161</td><td>&quot;Rudiger&quot;</td><td>&quot;Mathieson&quot;</td><td>&quot;FLKS&quot;</td><td>&quot;Health Care&quot;</td><td>&quot;NASDAQ&quot;</td><td>&quot;Flex Pharma, I…</td><td>64330000</td><td>96663.47</td><td>1</td><td>&quot;Very High&quot;</td><td>&quot;Small&quot;</td><td>3</td></tr><tr><td>186</td><td>&quot;Dur&quot;</td><td>&quot;Presnall&quot;</td><td>&quot;BP&quot;</td><td>&quot;Energy&quot;</td><td>&quot;NYSE&quot;</td><td>&quot;BP p.l.c.&quot;</td><td>117990000000</td><td>86921.67</td><td>1</td><td>&quot;Very High&quot;</td><td>&quot;Huge&quot;</td><td>1</td></tr><tr><td>188</td><td>&quot;Cherey&quot;</td><td>&quot;Tollemache&quot;</td><td>&quot;BA&quot;</td><td>&quot;Capital Goods&quot;</td><td>&quot;NYSE&quot;</td><td>&quot;Boeing Company…</td><td>118570000000</td><td>15340.41</td><td>1</td><td>&quot;Low&quot;</td><td>&quot;Huge&quot;</td><td>2</td></tr><tr><td>&hellip;</td><td>&hellip;</td><td>&hellip;</td><td>&hellip;</td><td>&hellip;</td><td>&hellip;</td><td>&hellip;</td><td>&hellip;</td><td>&hellip;</td><td>&hellip;</td><td>&hellip;</td><td>&hellip;</td><td>&hellip;</td></tr><tr><td>812</td><td>&quot;Conroy&quot;</td><td>&quot;Bramley&quot;</td><td>&quot;CCM&quot;</td><td>&quot;Health Care&quot;</td><td>&quot;NYSE&quot;</td><td>&quot;Concord Medica…</td><td>153070000</td><td>99535.36</td><td>8</td><td>&quot;Very High&quot;</td><td>&quot;Medium&quot;</td><td>4</td></tr><tr><td>817</td><td>&quot;Cosetta&quot;</td><td>&quot;Burd&quot;</td><td>&quot;PHH&quot;</td><td>&quot;Finance&quot;</td><td>&quot;NYSE&quot;</td><td>&quot;PHH Corp&quot;</td><td>743070000</td><td>24410.07</td><td>8</td><td>&quot;Low&quot;</td><td>&quot;Medium&quot;</td><td>1</td></tr><tr><td>850</td><td>&quot;Nessy&quot;</td><td>&quot;Auston&quot;</td><td>&quot;JRVR&quot;</td><td>&quot;Finance&quot;</td><td>&quot;NASDAQ&quot;</td><td>&quot;James River Gr…</td><td>1180000000</td><td>74618.92</td><td>8</td><td>&quot;High&quot;</td><td>&quot;Large&quot;</td><td>5</td></tr><tr><td>853</td><td>&quot;Goldina&quot;</td><td>&quot;Thunderchief&quot;</td><td>&quot;VCRA&quot;</td><td>&quot;Consumer Durab…</td><td>&quot;NYSE&quot;</td><td>&quot;Vocera Communi…</td><td>763420000</td><td>99808.72</td><td>8</td><td>&quot;Very High&quot;</td><td>&quot;Medium&quot;</td><td>2</td></tr><tr><td>879</td><td>&quot;Talyah&quot;</td><td>&quot;Bullcock&quot;</td><td>&quot;DWLV&quot;</td><td>&quot;n/a&quot;</td><td>&quot;NASDAQ&quot;</td><td>&quot;PowerShares DW…</td><td>4200000</td><td>22142.47</td><td>8</td><td>&quot;Low&quot;</td><td>&quot;Small&quot;</td><td>5</td></tr><tr><td>926</td><td>&quot;Zeb&quot;</td><td>&quot;Millgate&quot;</td><td>&quot;STPP&quot;</td><td>&quot;Finance&quot;</td><td>&quot;NASDAQ&quot;</td><td>&quot;iPath US Treas…</td><td>3250000</td><td>98186.87</td><td>8</td><td>&quot;Very High&quot;</td><td>&quot;Small&quot;</td><td>2</td></tr><tr><td>940</td><td>&quot;Carleen&quot;</td><td>&quot;McKinlay&quot;</td><td>&quot;HON&quot;</td><td>&quot;Capital Goods&quot;</td><td>&quot;NYSE&quot;</td><td>&quot;Honeywell Inte…</td><td>102630000000</td><td>32373.73</td><td>8</td><td>&quot;Medium&quot;</td><td>&quot;Huge&quot;</td><td>1</td></tr><tr><td>966</td><td>&quot;Denney&quot;</td><td>&quot;Manvell&quot;</td><td>&quot;IDE&quot;</td><td>&quot;n/a&quot;</td><td>&quot;NYSE&quot;</td><td>&quot;Voya Infrastru…</td><td>296890000</td><td>24036.38</td><td>8</td><td>&quot;Low&quot;</td><td>&quot;Medium&quot;</td><td>4</td></tr><tr><td>968</td><td>&quot;Cecilio&quot;</td><td>&quot;Itzkowicz&quot;</td><td>&quot;BSM&quot;</td><td>&quot;Energy&quot;</td><td>&quot;NYSE&quot;</td><td>&quot;Black Stone Mi…</td><td>3000000000</td><td>24381.9</td><td>8</td><td>&quot;Low&quot;</td><td>&quot;Large&quot;</td><td>1</td></tr><tr><td>973</td><td>&quot;Carry&quot;</td><td>&quot;Buff&quot;</td><td>&quot;ONCE&quot;</td><td>&quot;Health Care&quot;</td><td>&quot;NASDAQ&quot;</td><td>&quot;Spark Therapeu…</td><td>1820000000</td><td>98247.23</td><td>8</td><td>&quot;Very High&quot;</td><td>&quot;Large&quot;</td><td>3</td></tr><tr><td>974</td><td>&quot;Babs&quot;</td><td>&quot;Surcombe&quot;</td><td>&quot;IDRA&quot;</td><td>&quot;Health Care&quot;</td><td>&quot;NASDAQ&quot;</td><td>&quot;Idera Pharmace…</td><td>237150000</td><td>72016.13</td><td>8</td><td>&quot;High&quot;</td><td>&quot;Medium&quot;</td><td>4</td></tr><tr><td>989</td><td>&quot;Ora&quot;</td><td>&quot;Berard&quot;</td><td>&quot;SEP&quot;</td><td>&quot;Public Utiliti…</td><td>&quot;NYSE&quot;</td><td>&quot;Spectra Energy…</td><td>13130000000</td><td>24372.21</td><td>8</td><td>&quot;Low&quot;</td><td>&quot;Large&quot;</td><td>2</td></tr></tbody></table></div>"
      ],
      "text/plain": [
       "shape: (831, 13)\n",
       "┌─────┬────────────┬───────────┬────────────────┬───┬───────────┬───────────┬────────────┬──────┐\n",
       "│ id  ┆ first_name ┆ last_name ┆ Ticker         ┆ … ┆ file date ┆ Purchase  ┆ Market Cap ┆ Rank │\n",
       "│ --- ┆ ---        ┆ ---       ┆ ---            ┆   ┆ ---       ┆ Price     ┆ Category   ┆ ---  │\n",
       "│ i64 ┆ str        ┆ str       ┆ str            ┆   ┆ i32       ┆ Category  ┆ ---        ┆ u32  │\n",
       "│     ┆            ┆           ┆                ┆   ┆           ┆ ---       ┆ str        ┆      │\n",
       "│     ┆            ┆           ┆                ┆   ┆           ┆ str       ┆            ┆      │\n",
       "╞═════╪════════════╪═══════════╪════════════════╪═══╪═══════════╪═══════════╪════════════╪══════╡\n",
       "│ 14  ┆ Erminie    ┆ Lis       ┆ JHD            ┆ … ┆ 1         ┆ Low       ┆ Medium     ┆ 2    │\n",
       "│ 22  ┆ Davin      ┆ Rusling   ┆ LINK           ┆ … ┆ 1         ┆ Low       ┆ Small      ┆ 4    │\n",
       "│ 54  ┆ Jany       ┆ Hancke    ┆ CSOD           ┆ … ┆ 1         ┆ High      ┆ Large      ┆ 5    │\n",
       "│ 107 ┆ Chico      ┆ De Maria  ┆ CBA            ┆ … ┆ 1         ┆ Medium    ┆ Medium     ┆ 5    │\n",
       "│ …   ┆ …          ┆ …         ┆ …              ┆ … ┆ …         ┆ …         ┆ …          ┆ …    │\n",
       "│ 968 ┆ Cecilio    ┆ Itzkowicz ┆ BSM            ┆ … ┆ 8         ┆ Low       ┆ Large      ┆ 1    │\n",
       "│ 973 ┆ Carry      ┆ Buff      ┆ ONCE           ┆ … ┆ 8         ┆ Very High ┆ Large      ┆ 3    │\n",
       "│ 974 ┆ Babs       ┆ Surcombe  ┆ IDRA           ┆ … ┆ 8         ┆ High      ┆ Medium     ┆ 4    │\n",
       "│ 989 ┆ Ora        ┆ Berard    ┆ SEP            ┆ … ┆ 8         ┆ Low       ┆ Large      ┆ 2    │\n",
       "└─────┴────────────┴───────────┴────────────────┴───┴───────────┴───────────┴────────────┴──────┘"
      ]
     },
     "execution_count": 8,
     "metadata": {},
     "output_type": "execute_result"
    }
   ],
   "source": [
    "def clean_market_cap() -> pl.Expr:\n",
    "    '''\n",
    "    Convert symbols 'B' and 'M' to zeros while removing '$' symbol\n",
    "    '''\n",
    "    conversion = {'M': 1_000_000, 'B': 1_000_000_000}\n",
    "    col_expr = pl.col('Market Cap').str.replace('$', '', literal=True)\n",
    "    mutiplier_expr = col_expr.str.slice(-1).replace(conversion).cast(pl.Int64)\n",
    "\n",
    "    cleaned = (\n",
    "        pl.when(col_expr.str.contains('B')).then(col_expr.str.replace('B', '', literal=True))\n",
    "        .when(col_expr.str.contains('M')).then(col_expr.str.replace('M', '', literal=True))\n",
    "        .otherwise(col_expr)\n",
    "        .cast(pl.Float64) * mutiplier_expr\n",
    "    ).cast(pl.Int64)\n",
    "\n",
    "    return cleaned\n",
    "\n",
    "(\n",
    "    df\n",
    "    .filter(pl.col('Market Cap') != 'n/a')\n",
    "    .with_columns(\n",
    "        pl.col('Purchase Price').str.replace('$', '', literal=True).cast(pl.Float64),\n",
    "        clean_market_cap() \n",
    "    )\n",
    "    .with_columns(\n",
    "        pl.when(pl.col('Purchase Price') < 25_000).then(pl.lit('Low'))\n",
    "        .when(pl.col('Purchase Price') < 50_000).then(pl.lit('Medium'))\n",
    "        .when(pl.col('Purchase Price') < 75_000).then(pl.lit('High'))\n",
    "        .when(pl.col('Purchase Price') < 100_000).then(pl.lit('Very High'))\n",
    "        .alias('Purchase Price Category'),\n",
    "        pl.when(pl.col('Market Cap') < 100_000_000).then(pl.lit('Small'))\n",
    "        .when(pl.col('Market Cap') < 1_000_000_000).then(pl.lit('Medium'))\n",
    "        .when(pl.col('Market Cap') < 100_000_000_000).then(pl.lit('Large'))\n",
    "        .when(pl.col('Market Cap') >= 100_000_000_000).then(pl.lit('Huge'))\n",
    "        .alias('Market Cap Category')\n",
    "    )\n",
    "    .with_columns(\n",
    "        pl.col('Purchase Price')\n",
    "        .rank('ordinal', descending=True).over('file date', 'Purchase Price Category', 'Market Cap Category')\n",
    "        .alias('Rank')\n",
    "    )\n",
    "    .filter(pl.col('Rank')<=5)\n",
    ")"
   ]
  },
  {
   "cell_type": "code",
   "execution_count": null,
   "metadata": {},
   "outputs": [],
   "source": []
  }
 ],
 "metadata": {
  "kernelspec": {
   "display_name": "env",
   "language": "python",
   "name": "python3"
  },
  "language_info": {
   "codemirror_mode": {
    "name": "ipython",
    "version": 3
   },
   "file_extension": ".py",
   "mimetype": "text/x-python",
   "name": "python",
   "nbconvert_exporter": "python",
   "pygments_lexer": "ipython3",
   "version": "3.11.3"
  }
 },
 "nbformat": 4,
 "nbformat_minor": 2
}
