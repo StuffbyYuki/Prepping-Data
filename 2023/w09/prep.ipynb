{
 "cells": [
  {
   "cell_type": "code",
   "execution_count": 1,
   "metadata": {},
   "outputs": [],
   "source": [
    "import polars as pl"
   ]
  },
  {
   "cell_type": "code",
   "execution_count": 2,
   "metadata": {},
   "outputs": [],
   "source": [
    "acc_info_df = pl.read_csv('data/Account Information.csv')\n",
    "tra_detail_df = pl.read_csv('data/Transaction Detail.csv')\n",
    "tra_path_df = pl.read_csv('data/Transaction Path.csv')"
   ]
  },
  {
   "cell_type": "code",
   "execution_count": 3,
   "metadata": {},
   "outputs": [],
   "source": [
    "transactions_df = (\n",
    "    tra_detail_df\n",
    "    .join(\n",
    "        tra_path_df, how='inner', on='Transaction ID'\n",
    "    )\n",
    "    .filter(pl.col('Cancelled?') == 'N')\n",
    ")"
   ]
  },
  {
   "cell_type": "code",
   "execution_count": 26,
   "metadata": {},
   "outputs": [],
   "source": [
    "all_transactions_per_account = (\n",
    "    pl.concat([\n",
    "        (\n",
    "            acc_info_df\n",
    "            .join(\n",
    "                transactions_df.with_columns(pl.lit('outgoing').alias('Transaction Type')),\n",
    "                left_on='Account Number',\n",
    "                right_on='Account_From',\n",
    "                how='left',\n",
    "            )\n",
    "            .select(pl.exclude('Account_From', 'Account_To'))\n",
    "        ),\n",
    "        (\n",
    "            acc_info_df\n",
    "            .join(\n",
    "                transactions_df.with_columns(pl.lit('incoming').alias('Transaction Type')),\n",
    "                left_on='Account Number',\n",
    "                right_on='Account_To',\n",
    "                how='left',\n",
    "            )\n",
    "            .select(pl.exclude('Account_From', 'Account_To'))\n",
    "        )\n",
    "    ])\n",
    "    .rename({'Balance': 'Initial Balance', 'Value': 'Transaction Value'})\n",
    ")"
   ]
  },
  {
   "cell_type": "code",
   "execution_count": 27,
   "metadata": {},
   "outputs": [],
   "source": [
    "account_summary = (\n",
    "    all_transactions_per_account\n",
    "    .select(\n",
    "        'Account Number',\n",
    "        'Initial Balance',\n",
    "        'Transaction Date',\n",
    "        'Transaction Value',\n",
    "        'Transaction Type',\n",
    "    )\n",
    "    .with_columns(\n",
    "        pl.when(pl.col('Transaction Type') == 'incoming')\n",
    "        .then(pl.col('Transaction Value'))\n",
    "        .when(pl.col('Transaction Type') == 'outgoing')\n",
    "        .then(pl.col('Transaction Value') * -1)\n",
    "        .alias('Transaction Value')\n",
    "    )\n",
    "    .sort(\n",
    "        'Account Number',\n",
    "        'Transaction Date',\n",
    "        'Transaction Value',\n",
    "        descending=[False, False, True],\n",
    "    )\n",
    "    .select(\n",
    "        'Account Number',\n",
    "        pl.col('Transaction Date').alias('Balance Date'),\n",
    "        'Transaction Value',\n",
    "        (pl.col('Initial Balance') + pl.col('Transaction Value').cum_sum())\n",
    "        .over('Account Number')\n",
    "        .alias('Balance'),\n",
    "    )\n",
    "    .filter(\n",
    "        ~pl.all_horizontal(\n",
    "            pl.col('Balance Date').is_null(),\n",
    "            pl.col('Transaction Value').is_null(),\n",
    "            pl.col('Balance').is_null()\n",
    "        )\n",
    "    )\n",
    ")"
   ]
  },
  {
   "cell_type": "code",
   "execution_count": 28,
   "metadata": {},
   "outputs": [],
   "source": [
    "account_initial_balance = (\n",
    "    all_transactions_per_account.select(\n",
    "        'Account Number', 'Balance Date', 'Initial Balance'\n",
    "    )\n",
    "    .unique()\n",
    "    .with_columns(pl.lit(None).alias('Transaction Value'))\n",
    "    .rename({'Initial Balance': 'Balance'})\n",
    "    .select('Account Number', 'Balance Date', 'Transaction Value', 'Balance')\n",
    ")"
   ]
  },
  {
   "cell_type": "code",
   "execution_count": 29,
   "metadata": {},
   "outputs": [],
   "source": [
    "output = (\n",
    "    pl.concat([\n",
    "        account_summary, \n",
    "        account_initial_balance\n",
    "    ])\n",
    "    .sort('Account Number', 'Balance Date', 'Transaction Value')\n",
    "    .with_columns(pl.col('Balance').round(2))\n",
    ")"
   ]
  },
  {
   "cell_type": "code",
   "execution_count": 30,
   "metadata": {},
   "outputs": [],
   "source": [
    "output.write_csv('data/Output.csv')"
   ]
  },
  {
   "cell_type": "code",
   "execution_count": null,
   "metadata": {},
   "outputs": [],
   "source": []
  },
  {
   "cell_type": "code",
   "execution_count": null,
   "metadata": {},
   "outputs": [],
   "source": []
  }
 ],
 "metadata": {
  "kernelspec": {
   "display_name": "env",
   "language": "python",
   "name": "python3"
  },
  "language_info": {
   "codemirror_mode": {
    "name": "ipython",
    "version": 3
   },
   "file_extension": ".py",
   "mimetype": "text/x-python",
   "name": "python",
   "nbconvert_exporter": "python",
   "pygments_lexer": "ipython3",
   "version": "3.11.3"
  }
 },
 "nbformat": 4,
 "nbformat_minor": 2
}
