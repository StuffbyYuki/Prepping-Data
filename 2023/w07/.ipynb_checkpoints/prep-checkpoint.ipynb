{
 "cells": [
  {
   "cell_type": "code",
   "execution_count": 1,
   "metadata": {},
   "outputs": [],
   "source": [
    "import polars as pl"
   ]
  },
  {
   "cell_type": "code",
   "execution_count": 81,
   "metadata": {},
   "outputs": [],
   "source": [
    "acc_holder_df = pl.read_csv('data/Account Holders.csv')\n",
    "acc_info_df = pl.read_csv('data/Account Information.csv')\n",
    "tra_detail_df = pl.read_csv('data/Transaction Detail.csv')\n",
    "tra_path_df = pl.read_csv('data/Transaction Path.csv')"
   ]
  },
  {
   "cell_type": "code",
   "execution_count": 82,
   "metadata": {},
   "outputs": [
    {
     "name": "stdout",
     "output_type": "stream",
     "text": [
      "Rows: 3072\n",
      "Columns: 5\n",
      "$ Account Holder ID     <i64> 70390615, 20123998, 54374080, 97027297, 89920386, 97325900, 89460366, 53258828, 41402857, 8882143\n",
      "$ Name                  <str> 'Mahmoud Hehnke', 'Maynord Surgeoner', 'Giraldo Kimbley', 'Blake Dudson', 'Ajay Douce', 'Evonne Lindell', 'Kayla Emtage', 'Effie Bigglestone', 'Federico Cathro', 'Kizzee Puddephatt'\n",
      "$ Date of Birth         <str> '28/08/1995', '21/08/1997', '22/03/1995', '30/06/1955', '19/12/1930', '07/07/1946', '12/10/1987', '04/03/1992', '13/12/1985', '18/10/2003'\n",
      "$ Contact Number        <i64> 7479286250, 7716107305, 7489940612, 7253587445, 7395580534, 7631255412, 7867994451, 7623832140, 7283906757, 7598835878\n",
      "$ First Line of Address <str> '18535 Loftsgordon Park', '6422 Buena Vista Plaza', '93005 Summer Ridge Avenue', '2 Huxley Hill', '90176 Miller Alley', '90176 Miller Alley', '8 Green Ridge Alley', '231 Spenser Hill', '12 Green Hill', '72404 Maywood Avenue'\n",
      "\n",
      "Rows: 3000\n",
      "Columns: 5\n",
      "$ Account Number    <i64> 10005367, 10011977, 10024680, 10031238, 10034341, 10079965, 10091076, 10231977, 10232603, 10243581\n",
      "$ Account Type      <str> 'Platinum', 'Basic', 'Platinum', 'Basic', 'Joint', 'Basic', 'Platinum', 'Basic', 'Gold', 'Gold'\n",
      "$ Account Holder ID <str> '70390615', '20123998', '54374080', '97027297', '89920386, 97325900', '89460366', '53258828', '41402857', '08882143', '84620072'\n",
      "$ Balance Date      <str> '2023-01-31', '2023-01-31', '2023-01-31', '2023-01-31', '2023-01-31', '2023-01-31', '2023-01-31', '2023-01-31', '2023-01-31', '2023-01-31'\n",
      "$ Balance           <f64> 728.25, 676.54, 567.46, 576.52, 390.39, 799.27, 831.83, 61.63, 732.55, 104.27\n",
      "\n",
      "Rows: 8781\n",
      "Columns: 4\n",
      "$ Transaction ID   <i64> 1957155, 28234510, 33688648, 41670299, 42825784, 57723869, 90399803, 100789145, 111960312, 119530112\n",
      "$ Transaction Date <str> '2023-02-01', '2023-02-01', '2023-02-01', '2023-02-01', '2023-02-01', '2023-02-01', '2023-02-01', '2023-02-01', '2023-02-01', '2023-02-01'\n",
      "$ Value            <f64> 128.78, 163.82, 54.71, 88.1, 217.22, 89.22, 80.86, 117.31, 187.15, 87.59\n",
      "$ Cancelled?       <str> 'N', 'N', 'N', 'N', 'Y', 'N', 'N', 'N', 'N', 'N'\n",
      "\n",
      "Rows: 8781\n",
      "Columns: 3\n",
      "$ Transaction ID <i64> 1957155, 2147025, 3065073, 6622100, 14877473, 16513177, 20134045, 20930585, 21186197, 21915512\n",
      "$ Account_To     <i64> 27356852, 44242297, 10295384, 45519330, 28680375, 63959769, 25768265, 44378133, 72856610, 60417212\n",
      "$ Account_From   <i64> 76206810, 24826358, 52104303, 69315008, 44586370, 99015119, 50627436, 22054113, 77880852, 28429440\n",
      "\n"
     ]
    },
    {
     "data": {
      "text/plain": [
       "None"
      ]
     },
     "metadata": {},
     "output_type": "display_data"
    },
    {
     "data": {
      "text/plain": [
       "None"
      ]
     },
     "metadata": {},
     "output_type": "display_data"
    },
    {
     "data": {
      "text/plain": [
       "None"
      ]
     },
     "metadata": {},
     "output_type": "display_data"
    },
    {
     "data": {
      "text/plain": [
       "None"
      ]
     },
     "metadata": {},
     "output_type": "display_data"
    }
   ],
   "source": [
    "display(\n",
    "    acc_holder_df.glimpse(), \n",
    "    acc_info_df.glimpse(),\n",
    "    tra_detail_df.glimpse(),\n",
    "    tra_path_df.glimpse()\n",
    ")"
   ]
  },
  {
   "cell_type": "code",
   "execution_count": 83,
   "metadata": {},
   "outputs": [
    {
     "data": {
      "text/html": [
       "<div><style>\n",
       ".dataframe > thead > tr,\n",
       ".dataframe > tbody > tr {\n",
       "  text-align: right;\n",
       "  white-space: pre-wrap;\n",
       "}\n",
       "</style>\n",
       "<small>shape: (5, 5)</small><table border=\"1\" class=\"dataframe\"><thead><tr><th>Account Number</th><th>Account Type</th><th>Account Holder ID</th><th>Balance Date</th><th>Balance</th></tr><tr><td>i64</td><td>str</td><td>str</td><td>str</td><td>f64</td></tr></thead><tbody><tr><td>10005367</td><td>&quot;Platinum&quot;</td><td>&quot;70390615&quot;</td><td>&quot;2023-01-31&quot;</td><td>728.25</td></tr><tr><td>10011977</td><td>&quot;Basic&quot;</td><td>&quot;20123998&quot;</td><td>&quot;2023-01-31&quot;</td><td>676.54</td></tr><tr><td>10024680</td><td>&quot;Platinum&quot;</td><td>&quot;54374080&quot;</td><td>&quot;2023-01-31&quot;</td><td>567.46</td></tr><tr><td>10031238</td><td>&quot;Basic&quot;</td><td>&quot;97027297&quot;</td><td>&quot;2023-01-31&quot;</td><td>576.52</td></tr><tr><td>10034341</td><td>&quot;Joint&quot;</td><td>&quot;89920386&quot;</td><td>&quot;2023-01-31&quot;</td><td>390.39</td></tr></tbody></table></div>"
      ],
      "text/plain": [
       "shape: (5, 5)\n",
       "┌────────────────┬──────────────┬───────────────────┬──────────────┬─────────┐\n",
       "│ Account Number ┆ Account Type ┆ Account Holder ID ┆ Balance Date ┆ Balance │\n",
       "│ ---            ┆ ---          ┆ ---               ┆ ---          ┆ ---     │\n",
       "│ i64            ┆ str          ┆ str               ┆ str          ┆ f64     │\n",
       "╞════════════════╪══════════════╪═══════════════════╪══════════════╪═════════╡\n",
       "│ 10005367       ┆ Platinum     ┆ 70390615          ┆ 2023-01-31   ┆ 728.25  │\n",
       "│ 10011977       ┆ Basic        ┆ 20123998          ┆ 2023-01-31   ┆ 676.54  │\n",
       "│ 10024680       ┆ Platinum     ┆ 54374080          ┆ 2023-01-31   ┆ 567.46  │\n",
       "│ 10031238       ┆ Basic        ┆ 97027297          ┆ 2023-01-31   ┆ 576.52  │\n",
       "│ 10034341       ┆ Joint        ┆ 89920386          ┆ 2023-01-31   ┆ 390.39  │\n",
       "└────────────────┴──────────────┴───────────────────┴──────────────┴─────────┘"
      ]
     },
     "execution_count": 83,
     "metadata": {},
     "output_type": "execute_result"
    }
   ],
   "source": [
    "acc_info_df = (\n",
    "    acc_info_df\n",
    "    .filter(\n",
    "        pl.col('Account Holder ID').is_not_null()\n",
    "    )\n",
    "    # .sort(pl.col('Account Holder ID').str.len_chars(), descending=True)\n",
    "    .with_columns(\n",
    "        pl.col('Account Holder ID').str.split(', ')\n",
    "    )\n",
    "    .explode('Account Holder ID')\n",
    "    # .filter(pl.col('Account Holder ID').is_in([\"89920386\", \"97325900\"]))\n",
    ")\n",
    "acc_info_df.head()"
   ]
  },
  {
   "cell_type": "code",
   "execution_count": 89,
   "metadata": {},
   "outputs": [
    {
     "data": {
      "text/html": [
       "<div><style>\n",
       ".dataframe > thead > tr,\n",
       ".dataframe > tbody > tr {\n",
       "  text-align: right;\n",
       "  white-space: pre-wrap;\n",
       "}\n",
       "</style>\n",
       "<small>shape: (2, 1)</small><table border=\"1\" class=\"dataframe\"><thead><tr><th>Cancelled?</th></tr><tr><td>str</td></tr></thead><tbody><tr><td>&quot;Y&quot;</td></tr><tr><td>&quot;N&quot;</td></tr></tbody></table></div>"
      ],
      "text/plain": [
       "shape: (2, 1)\n",
       "┌────────────┐\n",
       "│ Cancelled? │\n",
       "│ ---        │\n",
       "│ str        │\n",
       "╞════════════╡\n",
       "│ Y          │\n",
       "│ N          │\n",
       "└────────────┘"
      ]
     },
     "execution_count": 89,
     "metadata": {},
     "output_type": "execute_result"
    }
   ],
   "source": [
    "tra_detail_df.select('Cancelled?').unique()"
   ]
  },
  {
   "cell_type": "code",
   "execution_count": 90,
   "metadata": {},
   "outputs": [
    {
     "data": {
      "text/html": [
       "<div><style>\n",
       ".dataframe > thead > tr,\n",
       ".dataframe > tbody > tr {\n",
       "  text-align: right;\n",
       "  white-space: pre-wrap;\n",
       "}\n",
       "</style>\n",
       "<small>shape: (5, 6)</small><table border=\"1\" class=\"dataframe\"><thead><tr><th>Transaction ID</th><th>Transaction Date</th><th>Value</th><th>Cancelled?</th><th>Account_To</th><th>Account_From</th></tr><tr><td>i64</td><td>str</td><td>f64</td><td>str</td><td>i64</td><td>i64</td></tr></thead><tbody><tr><td>45024251</td><td>&quot;2023-02-11&quot;</td><td>1137.9</td><td>&quot;N&quot;</td><td>15826579</td><td>53727603</td></tr><tr><td>46779876</td><td>&quot;2023-02-02&quot;</td><td>1019.5</td><td>&quot;N&quot;</td><td>21694967</td><td>82023979</td></tr><tr><td>57491925</td><td>&quot;2023-02-12&quot;</td><td>1761.1</td><td>&quot;N&quot;</td><td>19094015</td><td>65589565</td></tr><tr><td>108536548</td><td>&quot;2023-02-06&quot;</td><td>1085.4</td><td>&quot;N&quot;</td><td>86207903</td><td>10553619</td></tr><tr><td>176916326</td><td>&quot;2023-02-12&quot;</td><td>1955.6</td><td>&quot;N&quot;</td><td>33632099</td><td>18185362</td></tr></tbody></table></div>"
      ],
      "text/plain": [
       "shape: (5, 6)\n",
       "┌────────────────┬──────────────────┬────────┬────────────┬────────────┬──────────────┐\n",
       "│ Transaction ID ┆ Transaction Date ┆ Value  ┆ Cancelled? ┆ Account_To ┆ Account_From │\n",
       "│ ---            ┆ ---              ┆ ---    ┆ ---        ┆ ---        ┆ ---          │\n",
       "│ i64            ┆ str              ┆ f64    ┆ str        ┆ i64        ┆ i64          │\n",
       "╞════════════════╪══════════════════╪════════╪════════════╪════════════╪══════════════╡\n",
       "│ 45024251       ┆ 2023-02-11       ┆ 1137.9 ┆ N          ┆ 15826579   ┆ 53727603     │\n",
       "│ 46779876       ┆ 2023-02-02       ┆ 1019.5 ┆ N          ┆ 21694967   ┆ 82023979     │\n",
       "│ 57491925       ┆ 2023-02-12       ┆ 1761.1 ┆ N          ┆ 19094015   ┆ 65589565     │\n",
       "│ 108536548      ┆ 2023-02-06       ┆ 1085.4 ┆ N          ┆ 86207903   ┆ 10553619     │\n",
       "│ 176916326      ┆ 2023-02-12       ┆ 1955.6 ┆ N          ┆ 33632099   ┆ 18185362     │\n",
       "└────────────────┴──────────────────┴────────┴────────────┴────────────┴──────────────┘"
      ]
     },
     "execution_count": 90,
     "metadata": {},
     "output_type": "execute_result"
    }
   ],
   "source": [
    "transactions_df = (\n",
    "    tra_detail_df\n",
    "    .join(tra_path_df, how='inner', on='Transaction ID')\n",
    "    .filter(\n",
    "        (pl.col('Cancelled?')=='N') &\n",
    "        (pl.col('Value').gt(1000))\n",
    "    )\n",
    ")\n",
    "transactions_df.head()"
   ]
  },
  {
   "cell_type": "code",
   "execution_count": 91,
   "metadata": {},
   "outputs": [
    {
     "data": {
      "text/html": [
       "<div><style>\n",
       ".dataframe > thead > tr,\n",
       ".dataframe > tbody > tr {\n",
       "  text-align: right;\n",
       "  white-space: pre-wrap;\n",
       "}\n",
       "</style>\n",
       "<small>shape: (2_617, 9)</small><table border=\"1\" class=\"dataframe\"><thead><tr><th>Account Holder ID</th><th>Name</th><th>Date of Birth</th><th>Contact Number</th><th>First Line of Address</th><th>Account Number</th><th>Account Type</th><th>Balance Date</th><th>Balance</th></tr><tr><td>i64</td><td>str</td><td>str</td><td>str</td><td>str</td><td>i64</td><td>str</td><td>str</td><td>f64</td></tr></thead><tbody><tr><td>20123998</td><td>&quot;Maynord Surgeo…</td><td>&quot;21/08/1997&quot;</td><td>&quot;07716107305&quot;</td><td>&quot;6422 Buena Vis…</td><td>10011977</td><td>&quot;Basic&quot;</td><td>&quot;2023-01-31&quot;</td><td>676.54</td></tr><tr><td>97027297</td><td>&quot;Blake Dudson&quot;</td><td>&quot;30/06/1955&quot;</td><td>&quot;07253587445&quot;</td><td>&quot;2 Huxley Hill&quot;</td><td>10031238</td><td>&quot;Basic&quot;</td><td>&quot;2023-01-31&quot;</td><td>576.52</td></tr><tr><td>89920386</td><td>&quot;Ajay Douce&quot;</td><td>&quot;19/12/1930&quot;</td><td>&quot;07395580534&quot;</td><td>&quot;90176 Miller A…</td><td>10034341</td><td>&quot;Joint&quot;</td><td>&quot;2023-01-31&quot;</td><td>390.39</td></tr><tr><td>97325900</td><td>&quot;Evonne Lindell…</td><td>&quot;07/07/1946&quot;</td><td>&quot;07631255412&quot;</td><td>&quot;90176 Miller A…</td><td>10034341</td><td>&quot;Joint&quot;</td><td>&quot;2023-01-31&quot;</td><td>390.39</td></tr><tr><td>89460366</td><td>&quot;Kayla Emtage&quot;</td><td>&quot;12/10/1987&quot;</td><td>&quot;07867994451&quot;</td><td>&quot;8 Green Ridge …</td><td>10079965</td><td>&quot;Basic&quot;</td><td>&quot;2023-01-31&quot;</td><td>799.27</td></tr><tr><td>41402857</td><td>&quot;Federico Cathr…</td><td>&quot;13/12/1985&quot;</td><td>&quot;07283906757&quot;</td><td>&quot;12 Green Hill&quot;</td><td>10231977</td><td>&quot;Basic&quot;</td><td>&quot;2023-01-31&quot;</td><td>61.63</td></tr><tr><td>8882143</td><td>&quot;Kizzee Puddeph…</td><td>&quot;18/10/2003&quot;</td><td>&quot;07598835878&quot;</td><td>&quot;72404 Maywood …</td><td>10232603</td><td>&quot;Gold&quot;</td><td>&quot;2023-01-31&quot;</td><td>732.55</td></tr><tr><td>84620072</td><td>&quot;Kalvin Duetsch…</td><td>&quot;27/03/1965&quot;</td><td>&quot;07727619510&quot;</td><td>&quot;19032 Duke Par…</td><td>10243581</td><td>&quot;Gold&quot;</td><td>&quot;2023-01-31&quot;</td><td>104.27</td></tr><tr><td>90848186</td><td>&quot;Mead Yuryshev&quot;</td><td>&quot;25/01/1981&quot;</td><td>&quot;07380168367&quot;</td><td>&quot;7739 Amoth Cir…</td><td>10273387</td><td>&quot;Gold&quot;</td><td>&quot;2023-01-31&quot;</td><td>581.83</td></tr><tr><td>20689914</td><td>&quot;Susy Haggus&quot;</td><td>&quot;28/03/1948&quot;</td><td>&quot;07518352243&quot;</td><td>&quot;507 Vahlen Par…</td><td>10288821</td><td>&quot;Gold&quot;</td><td>&quot;2023-01-31&quot;</td><td>642.41</td></tr><tr><td>32962946</td><td>&quot;Marv Bohlje&quot;</td><td>&quot;20/04/1939&quot;</td><td>&quot;07554179551&quot;</td><td>&quot;8230 Ilene All…</td><td>10295384</td><td>&quot;Gold&quot;</td><td>&quot;2023-01-31&quot;</td><td>153.85</td></tr><tr><td>93891526</td><td>&quot;Ingelbert Row&quot;</td><td>&quot;30/12/1971&quot;</td><td>&quot;07181002596&quot;</td><td>&quot;3 Crowley Road…</td><td>10350324</td><td>&quot;Gold&quot;</td><td>&quot;2023-01-31&quot;</td><td>861.81</td></tr><tr><td>&hellip;</td><td>&hellip;</td><td>&hellip;</td><td>&hellip;</td><td>&hellip;</td><td>&hellip;</td><td>&hellip;</td><td>&hellip;</td><td>&hellip;</td></tr><tr><td>33890483</td><td>&quot;Edmon Jiles&quot;</td><td>&quot;17/07/1957&quot;</td><td>&quot;07907202943&quot;</td><td>&quot;58074 Linden S…</td><td>99657974</td><td>&quot;Gold&quot;</td><td>&quot;2023-01-31&quot;</td><td>263.32</td></tr><tr><td>12779591</td><td>&quot;Shandie Rigg&quot;</td><td>&quot;23/03/1992&quot;</td><td>&quot;07726154713&quot;</td><td>&quot;7 Artisan Hill…</td><td>99678854</td><td>&quot;Basic&quot;</td><td>&quot;2023-01-31&quot;</td><td>664.0</td></tr><tr><td>12441364</td><td>&quot;Riley Dearing&quot;</td><td>&quot;19/07/1964&quot;</td><td>&quot;07537069033&quot;</td><td>&quot;1370 Maryland …</td><td>99685765</td><td>&quot;Basic&quot;</td><td>&quot;2023-01-31&quot;</td><td>43.01</td></tr><tr><td>62234226</td><td>&quot;Alison Stansal…</td><td>&quot;10/12/1962&quot;</td><td>&quot;07202977804&quot;</td><td>&quot;1675 Mandrake …</td><td>99709741</td><td>&quot;Gold&quot;</td><td>&quot;2023-01-31&quot;</td><td>98.23</td></tr><tr><td>15559813</td><td>&quot;Kerrill Dunsta…</td><td>&quot;18/02/1952&quot;</td><td>&quot;07605122700&quot;</td><td>&quot;921 Merrick Wa…</td><td>99729369</td><td>&quot;Basic&quot;</td><td>&quot;2023-01-31&quot;</td><td>751.01</td></tr><tr><td>49193930</td><td>&quot;Hilary Crole&quot;</td><td>&quot;01/11/1974&quot;</td><td>&quot;07429810282&quot;</td><td>&quot;97581 Nevada A…</td><td>99730589</td><td>&quot;Gold&quot;</td><td>&quot;2023-01-31&quot;</td><td>988.44</td></tr><tr><td>56623581</td><td>&quot;Jana Sibthorp&quot;</td><td>&quot;02/03/1938&quot;</td><td>&quot;07302718672&quot;</td><td>&quot;48 Sutteridge …</td><td>99734848</td><td>&quot;Gold&quot;</td><td>&quot;2023-01-31&quot;</td><td>354.29</td></tr><tr><td>66659633</td><td>&quot;Mata Brownett&quot;</td><td>&quot;16/07/1931&quot;</td><td>&quot;07314541365&quot;</td><td>&quot;5 Kenwood Park…</td><td>99760030</td><td>&quot;Gold&quot;</td><td>&quot;2023-01-31&quot;</td><td>988.0</td></tr><tr><td>94872412</td><td>&quot;Tabby Matteott…</td><td>&quot;13/10/1962&quot;</td><td>&quot;07586210387&quot;</td><td>&quot;7517 Aberg Pla…</td><td>99791709</td><td>&quot;Gold&quot;</td><td>&quot;2023-01-31&quot;</td><td>15.05</td></tr><tr><td>90069774</td><td>&quot;Cyndia Fosse&quot;</td><td>&quot;09/03/1961&quot;</td><td>&quot;07494132554&quot;</td><td>&quot;42 Trailsway P…</td><td>99877007</td><td>&quot;Basic&quot;</td><td>&quot;2023-01-31&quot;</td><td>582.0</td></tr><tr><td>45810412</td><td>&quot;Arch Segrave&quot;</td><td>&quot;05/06/2000&quot;</td><td>&quot;07289510957&quot;</td><td>&quot;14 3rd Center&quot;</td><td>99937043</td><td>&quot;Joint&quot;</td><td>&quot;2023-01-31&quot;</td><td>918.42</td></tr><tr><td>83107272</td><td>&quot;Niko Rudderham…</td><td>&quot;11/12/2003&quot;</td><td>&quot;07312463759&quot;</td><td>&quot;14 3rd Center&quot;</td><td>99937043</td><td>&quot;Joint&quot;</td><td>&quot;2023-01-31&quot;</td><td>918.42</td></tr></tbody></table></div>"
      ],
      "text/plain": [
       "shape: (2_617, 9)\n",
       "┌────────────┬───────────┬───────────┬───────────┬───┬───────────┬───────────┬───────────┬─────────┐\n",
       "│ Account    ┆ Name      ┆ Date of   ┆ Contact   ┆ … ┆ Account   ┆ Account   ┆ Balance   ┆ Balance │\n",
       "│ Holder ID  ┆ ---       ┆ Birth     ┆ Number    ┆   ┆ Number    ┆ Type      ┆ Date      ┆ ---     │\n",
       "│ ---        ┆ str       ┆ ---       ┆ ---       ┆   ┆ ---       ┆ ---       ┆ ---       ┆ f64     │\n",
       "│ i64        ┆           ┆ str       ┆ str       ┆   ┆ i64       ┆ str       ┆ str       ┆         │\n",
       "╞════════════╪═══════════╪═══════════╪═══════════╪═══╪═══════════╪═══════════╪═══════════╪═════════╡\n",
       "│ 20123998   ┆ Maynord   ┆ 21/08/199 ┆ 077161073 ┆ … ┆ 10011977  ┆ Basic     ┆ 2023-01-3 ┆ 676.54  │\n",
       "│            ┆ Surgeoner ┆ 7         ┆ 05        ┆   ┆           ┆           ┆ 1         ┆         │\n",
       "│ 97027297   ┆ Blake     ┆ 30/06/195 ┆ 072535874 ┆ … ┆ 10031238  ┆ Basic     ┆ 2023-01-3 ┆ 576.52  │\n",
       "│            ┆ Dudson    ┆ 5         ┆ 45        ┆   ┆           ┆           ┆ 1         ┆         │\n",
       "│ 89920386   ┆ Ajay      ┆ 19/12/193 ┆ 073955805 ┆ … ┆ 10034341  ┆ Joint     ┆ 2023-01-3 ┆ 390.39  │\n",
       "│            ┆ Douce     ┆ 0         ┆ 34        ┆   ┆           ┆           ┆ 1         ┆         │\n",
       "│ 97325900   ┆ Evonne    ┆ 07/07/194 ┆ 076312554 ┆ … ┆ 10034341  ┆ Joint     ┆ 2023-01-3 ┆ 390.39  │\n",
       "│            ┆ Lindell   ┆ 6         ┆ 12        ┆   ┆           ┆           ┆ 1         ┆         │\n",
       "│ …          ┆ …         ┆ …         ┆ …         ┆ … ┆ …         ┆ …         ┆ …         ┆ …       │\n",
       "│ 94872412   ┆ Tabby     ┆ 13/10/196 ┆ 075862103 ┆ … ┆ 99791709  ┆ Gold      ┆ 2023-01-3 ┆ 15.05   │\n",
       "│            ┆ Matteotti ┆ 2         ┆ 87        ┆   ┆           ┆           ┆ 1         ┆         │\n",
       "│ 90069774   ┆ Cyndia    ┆ 09/03/196 ┆ 074941325 ┆ … ┆ 99877007  ┆ Basic     ┆ 2023-01-3 ┆ 582.0   │\n",
       "│            ┆ Fosse     ┆ 1         ┆ 54        ┆   ┆           ┆           ┆ 1         ┆         │\n",
       "│ 45810412   ┆ Arch      ┆ 05/06/200 ┆ 072895109 ┆ … ┆ 99937043  ┆ Joint     ┆ 2023-01-3 ┆ 918.42  │\n",
       "│            ┆ Segrave   ┆ 0         ┆ 57        ┆   ┆           ┆           ┆ 1         ┆         │\n",
       "│ 83107272   ┆ Niko      ┆ 11/12/200 ┆ 073124637 ┆ … ┆ 99937043  ┆ Joint     ┆ 2023-01-3 ┆ 918.42  │\n",
       "│            ┆ Rudderham ┆ 3         ┆ 59        ┆   ┆           ┆           ┆ 1         ┆         │\n",
       "└────────────┴───────────┴───────────┴───────────┴───┴───────────┴───────────┴───────────┴─────────┘"
      ]
     },
     "execution_count": 91,
     "metadata": {},
     "output_type": "execute_result"
    }
   ],
   "source": [
    "accounts_df = (\n",
    "    acc_holder_df\n",
    "    .with_columns(\n",
    "        (pl.lit('0') + pl.col('Contact Number').cast(pl.Utf8)).alias('Contact Number')\n",
    "    )\n",
    "    .join(\n",
    "        acc_info_df.with_columns(\n",
    "            pl.col('Account Holder ID').cast(pl.Int64)\n",
    "        ), \n",
    "        how='inner', \n",
    "        on='Account Holder ID'\n",
    "    )\n",
    "    .filter(pl.col('Account Type') != ('Platinum'))\n",
    ")\n",
    "accounts_df"
   ]
  },
  {
   "cell_type": "code",
   "execution_count": 102,
   "metadata": {},
   "outputs": [
    {
     "data": {
      "text/html": [
       "<div><style>\n",
       ".dataframe > thead > tr,\n",
       ".dataframe > tbody > tr {\n",
       "  text-align: right;\n",
       "  white-space: pre-wrap;\n",
       "}\n",
       "</style>\n",
       "<small>shape: (476, 12)</small><table border=\"1\" class=\"dataframe\"><thead><tr><th>Transaction ID</th><th>Account To</th><th>Transaction Date</th><th>Value</th><th>Account Number</th><th>Account Type</th><th>Balance Date</th><th>Balance</th><th>Name</th><th>Date of Birth</th><th>Contact Number</th><th>First Line of Address</th></tr><tr><td>i64</td><td>i64</td><td>str</td><td>f64</td><td>i64</td><td>str</td><td>str</td><td>f64</td><td>str</td><td>str</td><td>str</td><td>str</td></tr></thead><tbody><tr><td>1019117125</td><td>43623061</td><td>&quot;2023-02-02&quot;</td><td>1502.2</td><td>10769769</td><td>&quot;Basic&quot;</td><td>&quot;2023-01-31&quot;</td><td>906.91</td><td>&quot;Babbette Bromb…</td><td>&quot;24/05/1936&quot;</td><td>&quot;07355990194&quot;</td><td>&quot;447 Dwight Cir…</td></tr><tr><td>6732430556</td><td>60114464</td><td>&quot;2023-02-10&quot;</td><td>1640.4</td><td>11846043</td><td>&quot;Basic&quot;</td><td>&quot;2023-01-31&quot;</td><td>915.59</td><td>&quot;Harrietta McIl…</td><td>&quot;12/05/1971&quot;</td><td>&quot;07319685775&quot;</td><td>&quot;88637 Rutledge…</td></tr><tr><td>3203866781</td><td>86339899</td><td>&quot;2023-02-06&quot;</td><td>1792.7</td><td>14337606</td><td>&quot;Basic&quot;</td><td>&quot;2023-01-31&quot;</td><td>561.8</td><td>&quot;Em Willicott&quot;</td><td>&quot;25/11/1943&quot;</td><td>&quot;07460992733&quot;</td><td>&quot;7776 Parkside …</td></tr><tr><td>7466187412</td><td>37503622</td><td>&quot;2023-02-09&quot;</td><td>1300.7</td><td>14448009</td><td>&quot;Joint&quot;</td><td>&quot;2023-01-31&quot;</td><td>958.46</td><td>&quot;Brinn Attkins&quot;</td><td>&quot;13/10/1993&quot;</td><td>&quot;07538141937&quot;</td><td>&quot;70105 Hayes Wa…</td></tr><tr><td>2926917953</td><td>96121732</td><td>&quot;2023-02-11&quot;</td><td>1669.7</td><td>18348734</td><td>&quot;Basic&quot;</td><td>&quot;2023-01-31&quot;</td><td>579.93</td><td>&quot;Colene Rastric…</td><td>&quot;24/03/1946&quot;</td><td>&quot;07955897701&quot;</td><td>&quot;8 Macpherson T…</td></tr><tr><td>4000808907</td><td>92145159</td><td>&quot;2023-02-13&quot;</td><td>1370.8</td><td>18447548</td><td>&quot;Basic&quot;</td><td>&quot;2023-01-31&quot;</td><td>574.24</td><td>&quot;Amalle Townsen…</td><td>&quot;06/01/1959&quot;</td><td>&quot;07564656009&quot;</td><td>&quot;3526 Sutherlan…</td></tr><tr><td>4504569876</td><td>64228624</td><td>&quot;2023-02-12&quot;</td><td>1153.9</td><td>22830156</td><td>&quot;Basic&quot;</td><td>&quot;2023-01-31&quot;</td><td>596.06</td><td>&quot;Elli Cater&quot;</td><td>&quot;04/11/1942&quot;</td><td>&quot;07563267406&quot;</td><td>&quot;401 Summerview…</td></tr><tr><td>6282069041</td><td>63298193</td><td>&quot;2023-02-08&quot;</td><td>1360.9</td><td>24184530</td><td>&quot;Joint&quot;</td><td>&quot;2023-01-31&quot;</td><td>37.87</td><td>&quot;Gates Slevin&quot;</td><td>&quot;10/12/1972&quot;</td><td>&quot;07334338009&quot;</td><td>&quot;9 Holmberg All…</td></tr><tr><td>8680634573</td><td>35633136</td><td>&quot;2023-02-09&quot;</td><td>1855.5</td><td>24462859</td><td>&quot;Basic&quot;</td><td>&quot;2023-01-31&quot;</td><td>646.0</td><td>&quot;Kittie Heakins…</td><td>&quot;10/07/1957&quot;</td><td>&quot;07641727085&quot;</td><td>&quot;9 Village Gree…</td></tr><tr><td>9859809917</td><td>25678043</td><td>&quot;2023-02-08&quot;</td><td>2283.2</td><td>24529850</td><td>&quot;Basic&quot;</td><td>&quot;2023-01-31&quot;</td><td>800.79</td><td>&quot;Coralie Knelle…</td><td>&quot;28/09/1968&quot;</td><td>&quot;07134906360&quot;</td><td>&quot;682 Morning Pa…</td></tr><tr><td>9640473553</td><td>69796371</td><td>&quot;2023-02-04&quot;</td><td>1412.5</td><td>28380949</td><td>&quot;Basic&quot;</td><td>&quot;2023-01-31&quot;</td><td>937.24</td><td>&quot;Gherardo Leng&quot;</td><td>&quot;05/10/1988&quot;</td><td>&quot;07754173276&quot;</td><td>&quot;1968 Graedel P…</td></tr><tr><td>9847562024</td><td>84778718</td><td>&quot;2023-02-12&quot;</td><td>1183.8</td><td>29358670</td><td>&quot;Gold&quot;</td><td>&quot;2023-01-31&quot;</td><td>874.94</td><td>&quot;Joice Lufkin&quot;</td><td>&quot;01/08/1962&quot;</td><td>&quot;07943159313&quot;</td><td>&quot;6033 Dunning C…</td></tr><tr><td>&hellip;</td><td>&hellip;</td><td>&hellip;</td><td>&hellip;</td><td>&hellip;</td><td>&hellip;</td><td>&hellip;</td><td>&hellip;</td><td>&hellip;</td><td>&hellip;</td><td>&hellip;</td><td>&hellip;</td></tr><tr><td>6643142997</td><td>11882775</td><td>&quot;2023-02-09&quot;</td><td>1202.9</td><td>84746166</td><td>&quot;Gold&quot;</td><td>&quot;2023-01-31&quot;</td><td>806.73</td><td>&quot;Wainwright Cin…</td><td>&quot;01/12/1961&quot;</td><td>&quot;07105816352&quot;</td><td>&quot;8514 East Driv…</td></tr><tr><td>8821866106</td><td>25522226</td><td>&quot;2023-02-04&quot;</td><td>1410.9</td><td>85994636</td><td>&quot;Gold&quot;</td><td>&quot;2023-01-31&quot;</td><td>819.24</td><td>&quot;Chip Sedcole&quot;</td><td>&quot;06/11/1985&quot;</td><td>&quot;07561752448&quot;</td><td>&quot;1346 Northwest…</td></tr><tr><td>9533768649</td><td>51771015</td><td>&quot;2023-02-11&quot;</td><td>1035.1</td><td>86207903</td><td>&quot;Gold&quot;</td><td>&quot;2023-01-31&quot;</td><td>911.44</td><td>&quot;Leeanne Oddey&quot;</td><td>&quot;30/05/1935&quot;</td><td>&quot;07377002273&quot;</td><td>&quot;6125 Lake View…</td></tr><tr><td>7092608562</td><td>14397662</td><td>&quot;2023-02-08&quot;</td><td>1800.8</td><td>86941058</td><td>&quot;Gold&quot;</td><td>&quot;2023-01-31&quot;</td><td>337.99</td><td>&quot;Hew Le Noury&quot;</td><td>&quot;12/02/1931&quot;</td><td>&quot;07111281452&quot;</td><td>&quot;2 Linden Avenu…</td></tr><tr><td>3058104928</td><td>38969279</td><td>&quot;2023-02-04&quot;</td><td>1579.8</td><td>92195724</td><td>&quot;Gold&quot;</td><td>&quot;2023-01-31&quot;</td><td>726.92</td><td>&quot;Robyn Grinin&quot;</td><td>&quot;27/05/1938&quot;</td><td>&quot;07284741090&quot;</td><td>&quot;9 Grasskamp La…</td></tr><tr><td>9825475447</td><td>49840526</td><td>&quot;2023-02-08&quot;</td><td>2591.7</td><td>95213279</td><td>&quot;Gold&quot;</td><td>&quot;2023-01-31&quot;</td><td>441.59</td><td>&quot;Karole Pointin…</td><td>&quot;07/03/1977&quot;</td><td>&quot;07911233080&quot;</td><td>&quot;6232 Steenslan…</td></tr><tr><td>963672401</td><td>42838186</td><td>&quot;2023-02-09&quot;</td><td>1176.8</td><td>95390412</td><td>&quot;Basic&quot;</td><td>&quot;2023-01-31&quot;</td><td>553.04</td><td>&quot;Wren Shedd&quot;</td><td>&quot;27/06/1991&quot;</td><td>&quot;07991608640&quot;</td><td>&quot;26466 Ridgevie…</td></tr><tr><td>9611088159</td><td>11463412</td><td>&quot;2023-02-09&quot;</td><td>1582.3</td><td>97487639</td><td>&quot;Gold&quot;</td><td>&quot;2023-01-31&quot;</td><td>403.96</td><td>&quot;Adora Medeway&quot;</td><td>&quot;31/08/1954&quot;</td><td>&quot;07420518199&quot;</td><td>&quot;42490 Charing …</td></tr><tr><td>2065900199</td><td>39542358</td><td>&quot;2023-02-11&quot;</td><td>2361.6</td><td>97541080</td><td>&quot;Gold&quot;</td><td>&quot;2023-01-31&quot;</td><td>677.34</td><td>&quot;Emanuele Mitch…</td><td>&quot;04/03/1967&quot;</td><td>&quot;07266880904&quot;</td><td>&quot;8678 Oneill Pl…</td></tr><tr><td>9074617751</td><td>78234498</td><td>&quot;2023-02-04&quot;</td><td>1369.6</td><td>98717357</td><td>&quot;Basic&quot;</td><td>&quot;2023-01-31&quot;</td><td>183.63</td><td>&quot;Mariana Aburro…</td><td>&quot;02/12/1955&quot;</td><td>&quot;07188572854&quot;</td><td>&quot;6 Darwin Pass&quot;</td></tr><tr><td>4286864758</td><td>42726921</td><td>&quot;2023-02-12&quot;</td><td>1342.4</td><td>99734848</td><td>&quot;Gold&quot;</td><td>&quot;2023-01-31&quot;</td><td>354.29</td><td>&quot;Jana Sibthorp&quot;</td><td>&quot;02/03/1938&quot;</td><td>&quot;07302718672&quot;</td><td>&quot;48 Sutteridge …</td></tr><tr><td>8811694280</td><td>25510430</td><td>&quot;2023-02-06&quot;</td><td>1359.0</td><td>99791709</td><td>&quot;Gold&quot;</td><td>&quot;2023-01-31&quot;</td><td>15.05</td><td>&quot;Tabby Matteott…</td><td>&quot;13/10/1962&quot;</td><td>&quot;07586210387&quot;</td><td>&quot;7517 Aberg Pla…</td></tr></tbody></table></div>"
      ],
      "text/plain": [
       "shape: (476, 12)\n",
       "┌────────────┬────────────┬───────────┬────────┬───┬───────────┬───────────┬───────────┬───────────┐\n",
       "│ Transactio ┆ Account To ┆ Transacti ┆ Value  ┆ … ┆ Name      ┆ Date of   ┆ Contact   ┆ First     │\n",
       "│ n ID       ┆ ---        ┆ on Date   ┆ ---    ┆   ┆ ---       ┆ Birth     ┆ Number    ┆ Line of   │\n",
       "│ ---        ┆ i64        ┆ ---       ┆ f64    ┆   ┆ str       ┆ ---       ┆ ---       ┆ Address   │\n",
       "│ i64        ┆            ┆ str       ┆        ┆   ┆           ┆ str       ┆ str       ┆ ---       │\n",
       "│            ┆            ┆           ┆        ┆   ┆           ┆           ┆           ┆ str       │\n",
       "╞════════════╪════════════╪═══════════╪════════╪═══╪═══════════╪═══════════╪═══════════╪═══════════╡\n",
       "│ 1019117125 ┆ 43623061   ┆ 2023-02-0 ┆ 1502.2 ┆ … ┆ Babbette  ┆ 24/05/193 ┆ 073559901 ┆ 447       │\n",
       "│            ┆            ┆ 2         ┆        ┆   ┆ Bromby    ┆ 6         ┆ 94        ┆ Dwight    │\n",
       "│            ┆            ┆           ┆        ┆   ┆           ┆           ┆           ┆ Circle    │\n",
       "│ 6732430556 ┆ 60114464   ┆ 2023-02-1 ┆ 1640.4 ┆ … ┆ Harrietta ┆ 12/05/197 ┆ 073196857 ┆ 88637     │\n",
       "│            ┆            ┆ 0         ┆        ┆   ┆ McIlwrath ┆ 1         ┆ 75        ┆ Rutledge  │\n",
       "│            ┆            ┆           ┆        ┆   ┆           ┆           ┆           ┆ Point     │\n",
       "│ 3203866781 ┆ 86339899   ┆ 2023-02-0 ┆ 1792.7 ┆ … ┆ Em        ┆ 25/11/194 ┆ 074609927 ┆ 7776      │\n",
       "│            ┆            ┆ 6         ┆        ┆   ┆ Willicott ┆ 3         ┆ 33        ┆ Parkside  │\n",
       "│            ┆            ┆           ┆        ┆   ┆           ┆           ┆           ┆ Way       │\n",
       "│ 7466187412 ┆ 37503622   ┆ 2023-02-0 ┆ 1300.7 ┆ … ┆ Brinn     ┆ 13/10/199 ┆ 075381419 ┆ 70105     │\n",
       "│            ┆            ┆ 9         ┆        ┆   ┆ Attkins   ┆ 3         ┆ 37        ┆ Hayes Way │\n",
       "│ …          ┆ …          ┆ …         ┆ …      ┆ … ┆ …         ┆ …         ┆ …         ┆ …         │\n",
       "│ 2065900199 ┆ 39542358   ┆ 2023-02-1 ┆ 2361.6 ┆ … ┆ Emanuele  ┆ 04/03/196 ┆ 072668809 ┆ 8678      │\n",
       "│            ┆            ┆ 1         ┆        ┆   ┆ Mitcham   ┆ 7         ┆ 04        ┆ Oneill    │\n",
       "│            ┆            ┆           ┆        ┆   ┆           ┆           ┆           ┆ Place     │\n",
       "│ 9074617751 ┆ 78234498   ┆ 2023-02-0 ┆ 1369.6 ┆ … ┆ Mariana   ┆ 02/12/195 ┆ 071885728 ┆ 6 Darwin  │\n",
       "│            ┆            ┆ 4         ┆        ┆   ┆ Aburrow   ┆ 5         ┆ 54        ┆ Pass      │\n",
       "│ 4286864758 ┆ 42726921   ┆ 2023-02-1 ┆ 1342.4 ┆ … ┆ Jana      ┆ 02/03/193 ┆ 073027186 ┆ 48 Sutter │\n",
       "│            ┆            ┆ 2         ┆        ┆   ┆ Sibthorp  ┆ 8         ┆ 72        ┆ idge      │\n",
       "│            ┆            ┆           ┆        ┆   ┆           ┆           ┆           ┆ Plaza     │\n",
       "│ 8811694280 ┆ 25510430   ┆ 2023-02-0 ┆ 1359.0 ┆ … ┆ Tabby     ┆ 13/10/196 ┆ 075862103 ┆ 7517      │\n",
       "│            ┆            ┆ 6         ┆        ┆   ┆ Matteotti ┆ 2         ┆ 87        ┆ Aberg     │\n",
       "│            ┆            ┆           ┆        ┆   ┆           ┆           ┆           ┆ Plaza     │\n",
       "└────────────┴────────────┴───────────┴────────┴───┴───────────┴───────────┴───────────┴───────────┘"
      ]
     },
     "execution_count": 102,
     "metadata": {},
     "output_type": "execute_result"
    }
   ],
   "source": [
    "(\n",
    "    accounts_df\n",
    "    .join(\n",
    "        transactions_df, how='inner', left_on='Account Number', right_on='Account_From'\n",
    "    )\n",
    "    # .columns\n",
    "    .rename({'Account_To': 'Account To'})\n",
    "    .select(\n",
    "        'Transaction ID',\n",
    "        'Account To',\n",
    "        'Transaction Date',\n",
    "        'Value',\n",
    "        'Account Number',\n",
    "        'Account Type',\n",
    "        'Balance Date',\n",
    "        'Balance',\n",
    "        'Name',\n",
    "        'Date of Birth',\n",
    "        'Contact Number',\n",
    "        'First Line of Address'\n",
    "    )\n",
    "    .unique()\n",
    ")"
   ]
  },
  {
   "cell_type": "code",
   "execution_count": null,
   "metadata": {},
   "outputs": [],
   "source": []
  },
  {
   "cell_type": "code",
   "execution_count": null,
   "metadata": {},
   "outputs": [],
   "source": []
  }
 ],
 "metadata": {
  "kernelspec": {
   "display_name": "env",
   "language": "python",
   "name": "env"
  },
  "language_info": {
   "codemirror_mode": {
    "name": "ipython",
    "version": 3
   },
   "file_extension": ".py",
   "mimetype": "text/x-python",
   "name": "python",
   "nbconvert_exporter": "python",
   "pygments_lexer": "ipython3",
   "version": "3.11.3"
  }
 },
 "nbformat": 4,
 "nbformat_minor": 4
}
