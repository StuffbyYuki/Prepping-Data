{
 "cells": [
  {
   "cell_type": "code",
   "execution_count": 15,
   "metadata": {},
   "outputs": [],
   "source": [
    "import polars as pl\n",
    "from datetime import date"
   ]
  },
  {
   "cell_type": "code",
   "execution_count": 2,
   "metadata": {},
   "outputs": [],
   "source": [
    "FILE_PATH = 'AllChains Data.csv'"
   ]
  },
  {
   "cell_type": "code",
   "execution_count": 202,
   "metadata": {},
   "outputs": [],
   "source": [
    "MAX_DATE = date(2023, 6, 30)\n",
    "MAX_MONTH_FIRST_DATE = date(2023, 6, 1)"
   ]
  },
  {
   "cell_type": "code",
   "execution_count": 191,
   "metadata": {},
   "outputs": [
    {
     "name": "stdout",
     "output_type": "stream",
     "text": [
      "shape: (8_090, 5)\n",
      "┌────────────┬─────────────┬───────────┬─────────┬──────────┐\n",
      "│ Date       ┆ Store       ┆ Bike Type ┆ Sales   ┆ Profit   │\n",
      "│ ---        ┆ ---         ┆ ---       ┆ ---     ┆ ---      │\n",
      "│ str        ┆ str         ┆ str       ┆ f64     ┆ f64      │\n",
      "╞════════════╪═════════════╪═══════════╪═════════╪══════════╡\n",
      "│ 03/01/2020 ┆ Brixton     ┆ Gravel    ┆ 16.448  ┆ 5.5512   │\n",
      "│ 04/01/2020 ┆ Westminster ┆ Mountain  ┆ 3.54    ┆ -5.487   │\n",
      "│ 04/01/2020 ┆ Whitechapel ┆ Mountain  ┆ 11.784  ┆ 4.2717   │\n",
      "│ 04/01/2020 ┆ Peckham     ┆ Mountain  ┆ 272.736 ┆ -64.7748 │\n",
      "│ 05/01/2020 ┆ Chelsea     ┆ Gravel    ┆ 19.536  ┆ 4.884    │\n",
      "│ …          ┆ …           ┆ …         ┆ …       ┆ …        │\n",
      "│ 30/12/2023 ┆ Westminster ┆ Gravel    ┆ 55.8    ┆ 19.1862  │\n",
      "│ 30/12/2023 ┆ Westminster ┆ Road      ┆ 34.624  ┆ 10.9938  │\n",
      "│ 30/12/2023 ┆ Shoreditch  ┆ Gravel    ┆ 323.136 ┆ 12.1176  │\n",
      "│ 30/12/2023 ┆ Mayfair     ┆ Gravel    ┆ 3.024   ┆ -0.6048  │\n",
      "│ 30/12/2023 ┆ Richmond    ┆ Gravel    ┆ 90.93   ┆ 2.7279   │\n",
      "└────────────┴─────────────┴───────────┴─────────┴──────────┘\n"
     ]
    }
   ],
   "source": [
    "df = pl.read_csv(FILE_PATH)\n",
    "print(df)"
   ]
  },
  {
   "cell_type": "code",
   "execution_count": 288,
   "metadata": {},
   "outputs": [
    {
     "data": {
      "text/html": [
       "<div><style>\n",
       ".dataframe > thead > tr > th,\n",
       ".dataframe > tbody > tr > td {\n",
       "  text-align: right;\n",
       "}\n",
       "</style>\n",
       "<small>shape: (2_089, 6)</small><table border=\"1\" class=\"dataframe\"><thead><tr><th>Month</th><th>Store</th><th>Bike Type</th><th>Sales</th><th>Profit</th><th>3 Month Moving Average Profit</th></tr><tr><td>date</td><td>str</td><td>str</td><td>f64</td><td>f64</td><td>f64</td></tr></thead><tbody><tr><td>2020-01-01</td><td>&quot;Brixton&quot;</td><td>&quot;Gravel&quot;</td><td>199.36</td><td>80.88</td><td>null</td></tr><tr><td>2020-02-01</td><td>&quot;Brixton&quot;</td><td>&quot;Gravel&quot;</td><td>91.29</td><td>34.19</td><td>null</td></tr><tr><td>2020-03-01</td><td>&quot;Brixton&quot;</td><td>&quot;Gravel&quot;</td><td>453.84</td><td>196.16</td><td>103.74</td></tr><tr><td>2020-04-01</td><td>&quot;Brixton&quot;</td><td>&quot;Gravel&quot;</td><td>190.1</td><td>80.34</td><td>103.56</td></tr><tr><td>2020-05-01</td><td>&quot;Brixton&quot;</td><td>&quot;Gravel&quot;</td><td>242.55</td><td>113.74</td><td>130.08</td></tr><tr><td>&hellip;</td><td>&hellip;</td><td>&hellip;</td><td>&hellip;</td><td>&hellip;</td><td>&hellip;</td></tr><tr><td>2023-02-01</td><td>&quot;Wimbledon&quot;</td><td>&quot;Road&quot;</td><td>1429.33</td><td>261.57</td><td>153.94</td></tr><tr><td>2023-03-01</td><td>&quot;Wimbledon&quot;</td><td>&quot;Road&quot;</td><td>1527.74</td><td>347.37</td><td>199.98</td></tr><tr><td>2023-04-01</td><td>&quot;Wimbledon&quot;</td><td>&quot;Road&quot;</td><td>146.31</td><td>15.6</td><td>208.18</td></tr><tr><td>2023-05-01</td><td>&quot;Wimbledon&quot;</td><td>&quot;Road&quot;</td><td>946.82</td><td>256.47</td><td>206.48</td></tr><tr><td>2023-06-01</td><td>&quot;Wimbledon&quot;</td><td>&quot;Road&quot;</td><td>2781.01</td><td>658.51</td><td>310.19</td></tr></tbody></table></div>"
      ],
      "text/plain": [
       "shape: (2_089, 6)\n",
       "┌────────────┬───────────┬───────────┬─────────┬────────┬───────────────────────────────┐\n",
       "│ Month      ┆ Store     ┆ Bike Type ┆ Sales   ┆ Profit ┆ 3 Month Moving Average Profit │\n",
       "│ ---        ┆ ---       ┆ ---       ┆ ---     ┆ ---    ┆ ---                           │\n",
       "│ date       ┆ str       ┆ str       ┆ f64     ┆ f64    ┆ f64                           │\n",
       "╞════════════╪═══════════╪═══════════╪═════════╪════════╪═══════════════════════════════╡\n",
       "│ 2020-01-01 ┆ Brixton   ┆ Gravel    ┆ 199.36  ┆ 80.88  ┆ null                          │\n",
       "│ 2020-02-01 ┆ Brixton   ┆ Gravel    ┆ 91.29   ┆ 34.19  ┆ null                          │\n",
       "│ 2020-03-01 ┆ Brixton   ┆ Gravel    ┆ 453.84  ┆ 196.16 ┆ 103.74                        │\n",
       "│ 2020-04-01 ┆ Brixton   ┆ Gravel    ┆ 190.1   ┆ 80.34  ┆ 103.56                        │\n",
       "│ 2020-05-01 ┆ Brixton   ┆ Gravel    ┆ 242.55  ┆ 113.74 ┆ 130.08                        │\n",
       "│ …          ┆ …         ┆ …         ┆ …       ┆ …      ┆ …                             │\n",
       "│ 2023-02-01 ┆ Wimbledon ┆ Road      ┆ 1429.33 ┆ 261.57 ┆ 153.94                        │\n",
       "│ 2023-03-01 ┆ Wimbledon ┆ Road      ┆ 1527.74 ┆ 347.37 ┆ 199.98                        │\n",
       "│ 2023-04-01 ┆ Wimbledon ┆ Road      ┆ 146.31  ┆ 15.6   ┆ 208.18                        │\n",
       "│ 2023-05-01 ┆ Wimbledon ┆ Road      ┆ 946.82  ┆ 256.47 ┆ 206.48                        │\n",
       "│ 2023-06-01 ┆ Wimbledon ┆ Road      ┆ 2781.01 ┆ 658.51 ┆ 310.19                        │\n",
       "└────────────┴───────────┴───────────┴─────────┴────────┴───────────────────────────────┘"
      ]
     },
     "execution_count": 288,
     "metadata": {},
     "output_type": "execute_result"
    }
   ],
   "source": [
    "intermediate = (\n",
    "    df\n",
    "    .with_columns(\n",
    "        pl.col('Date').str.to_date('%d/%m/%Y'),\n",
    "    )\n",
    "    .filter(pl.col('Date').le(MAX_DATE))\n",
    "    .groupby_dynamic('Date', every='1mo', by=['Store', 'Bike Type']).agg(\n",
    "        pl.col('Sales').sum(), \n",
    "        pl.col('Profit').sum()\n",
    "    )\n",
    ")\n",
    "\n",
    "supplimental_rows = (\n",
    "    intermediate\n",
    "    .with_columns(\n",
    "        pl.col('Date').max().over(['Store', 'Bike Type']).alias('max month per group')\n",
    "    )\n",
    "    .filter(\n",
    "        (pl.col('max month per group')!=MAX_MONTH_FIRST_DATE)\n",
    "        &\n",
    "        (pl.col('max month per group')==pl.col('Date'))\n",
    "    )\n",
    "    .select(\n",
    "        'Store',\n",
    "        'Bike Type',\n",
    "        pl.lit(MAX_MONTH_FIRST_DATE).alias('Date'),\n",
    "        pl.lit(0.0).alias('Sales'),\n",
    "        pl.lit(0.0).alias('Profit')\n",
    "    )\n",
    ")\n",
    "\n",
    "\n",
    "result = (\n",
    "    intermediate\n",
    "    .vstack(supplimental_rows)\n",
    "    .sort('Store', 'Bike Type', 'Date')\n",
    "    .set_sorted(['Date', 'Store', 'Bike Type'])\n",
    "    .upsample('Date', every='1mo', by=['Store', 'Bike Type'])  # filling dates where there is no sales value\n",
    "    .with_columns(\n",
    "        pl.col(['Store', 'Bike Type']).fill_null(strategy='forward'),\n",
    "        pl.col(['Sales', 'Profit']).fill_null(0)\n",
    "    )\n",
    "    .select(\n",
    "        pl.col('Date').alias('Month'),\n",
    "        pl.col('Store'),\n",
    "        pl.col('Bike Type'),\n",
    "        pl.col('Sales').round(2),\n",
    "        pl.col('Profit').round(2),\n",
    "        pl.col('Profit').rolling_mean(window_size=3).over(['Store', 'Bike Type']).round(2).alias('3 Month Moving Average Profit')\n",
    "    )\n",
    "    .sort(['Store', 'Bike Type', 'Month'])\n",
    ")\n",
    "result"
   ]
  },
  {
   "cell_type": "code",
   "execution_count": null,
   "metadata": {},
   "outputs": [],
   "source": []
  }
 ],
 "metadata": {
  "kernelspec": {
   "display_name": ".venv",
   "language": "python",
   "name": "python3"
  },
  "language_info": {
   "codemirror_mode": {
    "name": "ipython",
    "version": 3
   },
   "file_extension": ".py",
   "mimetype": "text/x-python",
   "name": "python",
   "nbconvert_exporter": "python",
   "pygments_lexer": "ipython3",
   "version": "3.11.3"
  },
  "orig_nbformat": 4
 },
 "nbformat": 4,
 "nbformat_minor": 2
}
