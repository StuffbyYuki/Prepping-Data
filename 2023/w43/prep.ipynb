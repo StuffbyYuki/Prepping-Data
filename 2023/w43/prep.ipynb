{
 "cells": [
  {
   "cell_type": "code",
   "execution_count": 1,
   "metadata": {},
   "outputs": [],
   "source": [
    "import polars as pl"
   ]
  },
  {
   "cell_type": "code",
   "execution_count": 7,
   "metadata": {},
   "outputs": [
    {
     "data": {
      "text/html": [
       "<div><style>\n",
       ".dataframe > thead > tr > th,\n",
       ".dataframe > tbody > tr > td {\n",
       "  text-align: right;\n",
       "  white-space: pre-wrap;\n",
       "}\n",
       "</style>\n",
       "<small>shape: (5, 2)</small><table border=\"1\" class=\"dataframe\"><thead><tr><th>Day of Week</th><th>After School Club</th></tr><tr><td>str</td><td>str</td></tr></thead><tbody><tr><td>&quot;Monday&quot;</td><td>&quot;Art Club&quot;</td></tr><tr><td>&quot;Tuesday&quot;</td><td>&quot;Karate Club&quot;</td></tr><tr><td>&quot;Wednesday&quot;</td><td>&quot;Homework Club&quot;</td></tr><tr><td>&quot;Thursday&quot;</td><td>&quot;Coding Club&quot;</td></tr><tr><td>&quot;Friday&quot;</td><td>&quot;Gymnastics Clu…</td></tr></tbody></table></div>"
      ],
      "text/plain": [
       "shape: (5, 2)\n",
       "┌─────────────┬───────────────────┐\n",
       "│ Day of Week ┆ After School Club │\n",
       "│ ---         ┆ ---               │\n",
       "│ str         ┆ str               │\n",
       "╞═════════════╪═══════════════════╡\n",
       "│ Monday      ┆ Art Club          │\n",
       "│ Tuesday     ┆ Karate Club       │\n",
       "│ Wednesday   ┆ Homework Club     │\n",
       "│ Thursday    ┆ Coding Club       │\n",
       "│ Friday      ┆ Gymnastics Club   │\n",
       "└─────────────┴───────────────────┘"
      ]
     },
     "metadata": {},
     "output_type": "display_data"
    },
    {
     "data": {
      "text/html": [
       "<div><style>\n",
       ".dataframe > thead > tr > th,\n",
       ".dataframe > tbody > tr > td {\n",
       "  text-align: right;\n",
       "  white-space: pre-wrap;\n",
       "}\n",
       "</style>\n",
       "<small>shape: (9, 2)</small><table border=\"1\" class=\"dataframe\"><thead><tr><th>Date</th><th>Event</th></tr><tr><td>date</td><td>str</td></tr></thead><tbody><tr><td>2023-04-17</td><td>&quot;First Day of T…</td></tr><tr><td>2023-04-20</td><td>&quot;Paint-a-Pot Tr…</td></tr><tr><td>2023-04-24</td><td>&quot;Inset Day&quot;</td></tr><tr><td>2023-04-25</td><td>&quot;Natural Histro…</td></tr><tr><td>2023-05-03</td><td>&quot;World Book Day…</td></tr><tr><td>2023-05-05</td><td>&quot;Non-uniform Da…</td></tr><tr><td>2023-05-16</td><td>&quot;Inset Day&quot;</td></tr><tr><td>2023-05-24</td><td>&quot;Stongehenge Tr…</td></tr><tr><td>2023-05-26</td><td>&quot;Last Day of Te…</td></tr></tbody></table></div>"
      ],
      "text/plain": [
       "shape: (9, 2)\n",
       "┌────────────┬──────────────────────────────────┐\n",
       "│ Date       ┆ Event                            │\n",
       "│ ---        ┆ ---                              │\n",
       "│ date       ┆ str                              │\n",
       "╞════════════╪══════════════════════════════════╡\n",
       "│ 2023-04-17 ┆ First Day of Term                │\n",
       "│ 2023-04-20 ┆ Paint-a-Pot Trip                 │\n",
       "│ 2023-04-24 ┆ Inset Day                        │\n",
       "│ 2023-04-25 ┆ Natural Histroy Museum Trip      │\n",
       "│ 2023-05-03 ┆ World Book Day                   │\n",
       "│ 2023-05-05 ┆ Non-uniform Day for Comic Relief │\n",
       "│ 2023-05-16 ┆ Inset Day                        │\n",
       "│ 2023-05-24 ┆ Stongehenge Trip                 │\n",
       "│ 2023-05-26 ┆ Last Day of Term                 │\n",
       "└────────────┴──────────────────────────────────┘"
      ]
     },
     "metadata": {},
     "output_type": "display_data"
    }
   ],
   "source": [
    "clubs_df = pl.read_csv('data/After School Club.csv')\n",
    "events_df = pl.read_csv('data/Events.csv', try_parse_dates=True)\n",
    "display(\n",
    "    clubs_df, events_df\n",
    ")"
   ]
  },
  {
   "cell_type": "code",
   "execution_count": 23,
   "metadata": {},
   "outputs": [
    {
     "data": {
      "text/html": [
       "<div><style>\n",
       ".dataframe > thead > tr > th,\n",
       ".dataframe > tbody > tr > td {\n",
       "  text-align: right;\n",
       "  white-space: pre-wrap;\n",
       "}\n",
       "</style>\n",
       "<small>shape: (30, 4)</small><table border=\"1\" class=\"dataframe\"><thead><tr><th>Date</th><th>Event</th><th>Day of Week</th><th>After School Club</th></tr><tr><td>date</td><td>str</td><td>str</td><td>str</td></tr></thead><tbody><tr><td>2023-04-17</td><td>&quot;First Day of T…</td><td>&quot;Monday&quot;</td><td>&quot;Art Club&quot;</td></tr><tr><td>2023-04-18</td><td>&quot;N/A&quot;</td><td>&quot;Tuesday&quot;</td><td>&quot;Karate Club&quot;</td></tr><tr><td>2023-04-19</td><td>&quot;N/A&quot;</td><td>&quot;Wednesday&quot;</td><td>&quot;Homework Club&quot;</td></tr><tr><td>2023-04-20</td><td>&quot;Paint-a-Pot Tr…</td><td>&quot;Thursday&quot;</td><td>&quot;Coding Club&quot;</td></tr><tr><td>2023-04-21</td><td>&quot;N/A&quot;</td><td>&quot;Friday&quot;</td><td>&quot;Gymnastics Clu…</td></tr><tr><td>2023-04-24</td><td>&quot;Inset Day&quot;</td><td>&quot;Monday&quot;</td><td>&quot;Art Club&quot;</td></tr><tr><td>2023-04-25</td><td>&quot;Natural Histro…</td><td>&quot;Tuesday&quot;</td><td>&quot;Karate Club&quot;</td></tr><tr><td>2023-04-26</td><td>&quot;N/A&quot;</td><td>&quot;Wednesday&quot;</td><td>&quot;Homework Club&quot;</td></tr><tr><td>2023-04-27</td><td>&quot;N/A&quot;</td><td>&quot;Thursday&quot;</td><td>&quot;Coding Club&quot;</td></tr><tr><td>2023-04-28</td><td>&quot;N/A&quot;</td><td>&quot;Friday&quot;</td><td>&quot;Gymnastics Clu…</td></tr><tr><td>2023-05-01</td><td>&quot;N/A&quot;</td><td>&quot;Monday&quot;</td><td>&quot;Art Club&quot;</td></tr><tr><td>2023-05-02</td><td>&quot;N/A&quot;</td><td>&quot;Tuesday&quot;</td><td>&quot;Karate Club&quot;</td></tr><tr><td>&hellip;</td><td>&hellip;</td><td>&hellip;</td><td>&hellip;</td></tr><tr><td>2023-05-11</td><td>&quot;N/A&quot;</td><td>&quot;Thursday&quot;</td><td>&quot;Coding Club&quot;</td></tr><tr><td>2023-05-12</td><td>&quot;N/A&quot;</td><td>&quot;Friday&quot;</td><td>&quot;Gymnastics Clu…</td></tr><tr><td>2023-05-15</td><td>&quot;N/A&quot;</td><td>&quot;Monday&quot;</td><td>&quot;Art Club&quot;</td></tr><tr><td>2023-05-16</td><td>&quot;Inset Day&quot;</td><td>&quot;Tuesday&quot;</td><td>&quot;Karate Club&quot;</td></tr><tr><td>2023-05-17</td><td>&quot;N/A&quot;</td><td>&quot;Wednesday&quot;</td><td>&quot;Homework Club&quot;</td></tr><tr><td>2023-05-18</td><td>&quot;N/A&quot;</td><td>&quot;Thursday&quot;</td><td>&quot;Coding Club&quot;</td></tr><tr><td>2023-05-19</td><td>&quot;N/A&quot;</td><td>&quot;Friday&quot;</td><td>&quot;Gymnastics Clu…</td></tr><tr><td>2023-05-22</td><td>&quot;N/A&quot;</td><td>&quot;Monday&quot;</td><td>&quot;Art Club&quot;</td></tr><tr><td>2023-05-23</td><td>&quot;N/A&quot;</td><td>&quot;Tuesday&quot;</td><td>&quot;Karate Club&quot;</td></tr><tr><td>2023-05-24</td><td>&quot;Stongehenge Tr…</td><td>&quot;Wednesday&quot;</td><td>&quot;Homework Club&quot;</td></tr><tr><td>2023-05-25</td><td>&quot;N/A&quot;</td><td>&quot;Thursday&quot;</td><td>&quot;Coding Club&quot;</td></tr><tr><td>2023-05-26</td><td>&quot;Last Day of Te…</td><td>&quot;Friday&quot;</td><td>&quot;Gymnastics Clu…</td></tr></tbody></table></div>"
      ],
      "text/plain": [
       "shape: (30, 4)\n",
       "┌────────────┬───────────────────┬─────────────┬───────────────────┐\n",
       "│ Date       ┆ Event             ┆ Day of Week ┆ After School Club │\n",
       "│ ---        ┆ ---               ┆ ---         ┆ ---               │\n",
       "│ date       ┆ str               ┆ str         ┆ str               │\n",
       "╞════════════╪═══════════════════╪═════════════╪═══════════════════╡\n",
       "│ 2023-04-17 ┆ First Day of Term ┆ Monday      ┆ Art Club          │\n",
       "│ 2023-04-18 ┆ N/A               ┆ Tuesday     ┆ Karate Club       │\n",
       "│ 2023-04-19 ┆ N/A               ┆ Wednesday   ┆ Homework Club     │\n",
       "│ 2023-04-20 ┆ Paint-a-Pot Trip  ┆ Thursday    ┆ Coding Club       │\n",
       "│ …          ┆ …                 ┆ …           ┆ …                 │\n",
       "│ 2023-05-23 ┆ N/A               ┆ Tuesday     ┆ Karate Club       │\n",
       "│ 2023-05-24 ┆ Stongehenge Trip  ┆ Wednesday   ┆ Homework Club     │\n",
       "│ 2023-05-25 ┆ N/A               ┆ Thursday    ┆ Coding Club       │\n",
       "│ 2023-05-26 ┆ Last Day of Term  ┆ Friday      ┆ Gymnastics Club   │\n",
       "└────────────┴───────────────────┴─────────────┴───────────────────┘"
      ]
     },
     "execution_count": 23,
     "metadata": {},
     "output_type": "execute_result"
    }
   ],
   "source": [
    "weekdays_mapping = {1: 'Monday', 2: 'Tuesday', 3: 'Wednesday', 4: 'Thursday', 5: 'Friday'}\n",
    "\n",
    "(\n",
    "    events_df\n",
    "    # .set_sorted('Date')\n",
    "    .sort('Date')\n",
    "    .upsample(\n",
    "        time_column='Date', every='1d', maintain_order=True\n",
    "    )\n",
    "    .with_columns(\n",
    "        pl.col('Date')\n",
    "        .dt.weekday()\n",
    "        .map_dict(weekdays_mapping)\n",
    "        .alias('Day of Week'),\n",
    "        pl.col('Event').fill_null('N/A')\n",
    "    )\n",
    "    .filter( \n",
    "        pl.col('Day of Week').is_not_null() \n",
    "    )\n",
    "    .join(\n",
    "        clubs_df, on='Day of Week', how='left'\n",
    "    )\n",
    ")\n"
   ]
  },
  {
   "cell_type": "code",
   "execution_count": null,
   "metadata": {},
   "outputs": [],
   "source": []
  }
 ],
 "metadata": {
  "kernelspec": {
   "display_name": "env",
   "language": "python",
   "name": "python3"
  },
  "language_info": {
   "codemirror_mode": {
    "name": "ipython",
    "version": 3
   },
   "file_extension": ".py",
   "mimetype": "text/x-python",
   "name": "python",
   "nbconvert_exporter": "python",
   "pygments_lexer": "ipython3",
   "version": "3.11.3"
  }
 },
 "nbformat": 4,
 "nbformat_minor": 2
}
