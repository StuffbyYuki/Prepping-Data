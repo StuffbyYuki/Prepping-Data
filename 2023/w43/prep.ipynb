{
 "cells": [
  {
   "cell_type": "code",
   "execution_count": 112,
   "metadata": {},
   "outputs": [],
   "source": [
    "import polars as pl"
   ]
  },
  {
   "cell_type": "code",
   "execution_count": 113,
   "metadata": {},
   "outputs": [
    {
     "data": {
      "text/html": [
       "<div><style>\n",
       ".dataframe > thead > tr > th,\n",
       ".dataframe > tbody > tr > td {\n",
       "  text-align: right;\n",
       "  white-space: pre-wrap;\n",
       "}\n",
       "</style>\n",
       "<small>shape: (5, 5)</small><table border=\"1\" class=\"dataframe\"><thead><tr><th>First Name</th><th>Last Name</th><th>Days Present</th><th>Days Absent</th><th>Full Name</th></tr><tr><td>str</td><td>str</td><td>i64</td><td>i64</td><td>str</td></tr></thead><tbody><tr><td>&quot;Ronna&quot;</td><td>&quot;Nellies&quot;</td><td>60</td><td>3</td><td>&quot;Ronna Nellies&quot;</td></tr><tr><td>&quot;Rusty&quot;</td><td>&quot;Andriulis&quot;</td><td>55</td><td>8</td><td>&quot;Rusty Andriuli…</td></tr><tr><td>&quot;Roberta&quot;</td><td>&quot;Oakeshott&quot;</td><td>45</td><td>18</td><td>&quot;Roberta Oakesh…</td></tr><tr><td>&quot;Lola&quot;</td><td>&quot;Rubinfajn&quot;</td><td>43</td><td>20</td><td>&quot;Lola Rubinfajn…</td></tr><tr><td>&quot;Kamila&quot;</td><td>&quot;Benedtti&quot;</td><td>24</td><td>39</td><td>&quot;Kamila Benedtt…</td></tr></tbody></table></div>"
      ],
      "text/plain": [
       "shape: (5, 5)\n",
       "┌────────────┬───────────┬──────────────┬─────────────┬───────────────────┐\n",
       "│ First Name ┆ Last Name ┆ Days Present ┆ Days Absent ┆ Full Name         │\n",
       "│ ---        ┆ ---       ┆ ---          ┆ ---         ┆ ---               │\n",
       "│ str        ┆ str       ┆ i64          ┆ i64         ┆ str               │\n",
       "╞════════════╪═══════════╪══════════════╪═════════════╪═══════════════════╡\n",
       "│ Ronna      ┆ Nellies   ┆ 60           ┆ 3           ┆ Ronna Nellies     │\n",
       "│ Rusty      ┆ Andriulis ┆ 55           ┆ 8           ┆ Rusty Andriulis   │\n",
       "│ Roberta    ┆ Oakeshott ┆ 45           ┆ 18          ┆ Roberta Oakeshott │\n",
       "│ Lola       ┆ Rubinfajn ┆ 43           ┆ 20          ┆ Lola Rubinfajn    │\n",
       "│ Kamila     ┆ Benedtti  ┆ 24           ┆ 39          ┆ Kamila Benedtti   │\n",
       "└────────────┴───────────┴──────────────┴─────────────┴───────────────────┘"
      ]
     },
     "execution_count": 113,
     "metadata": {},
     "output_type": "execute_result"
    }
   ],
   "source": [
    "attendance_df = (\n",
    "    pl.read_csv('data/Term*.csv')\n",
    "    .with_columns(\n",
    "        (pl.col('First Name') + ' ' + pl.col('Last Name')).alias('Full Name')\n",
    "    )\n",
    ")\n",
    "attendance_df.head()"
   ]
  },
  {
   "cell_type": "code",
   "execution_count": 114,
   "metadata": {},
   "outputs": [
    {
     "data": {
      "text/html": [
       "<div><style>\n",
       ".dataframe > thead > tr > th,\n",
       ".dataframe > tbody > tr > td {\n",
       "  text-align: right;\n",
       "  white-space: pre-wrap;\n",
       "}\n",
       "</style>\n",
       "<small>shape: (5, 3)</small><table border=\"1\" class=\"dataframe\"><thead><tr><th>First Name</th><th>Last Name</th><th>Year Group</th></tr><tr><td>str</td><td>str</td><td>i64</td></tr></thead><tbody><tr><td>&quot;Ronna&quot;</td><td>&quot;Nellies&quot;</td><td>3</td></tr><tr><td>&quot;Rusty&quot;</td><td>&quot;Andriulis&quot;</td><td>2</td></tr><tr><td>&quot;Roberta&quot;</td><td>&quot;Oakeshott&quot;</td><td>5</td></tr><tr><td>&quot;Lola&quot;</td><td>&quot;Rubinfajn&quot;</td><td>3</td></tr><tr><td>&quot;Kamila&quot;</td><td>&quot;Benedtti&quot;</td><td>7</td></tr></tbody></table></div>"
      ],
      "text/plain": [
       "shape: (5, 3)\n",
       "┌────────────┬───────────┬────────────┐\n",
       "│ First Name ┆ Last Name ┆ Year Group │\n",
       "│ ---        ┆ ---       ┆ ---        │\n",
       "│ str        ┆ str       ┆ i64        │\n",
       "╞════════════╪═══════════╪════════════╡\n",
       "│ Ronna      ┆ Nellies   ┆ 3          │\n",
       "│ Rusty      ┆ Andriulis ┆ 2          │\n",
       "│ Roberta    ┆ Oakeshott ┆ 5          │\n",
       "│ Lola       ┆ Rubinfajn ┆ 3          │\n",
       "│ Kamila     ┆ Benedtti  ┆ 7          │\n",
       "└────────────┴───────────┴────────────┘"
      ]
     },
     "execution_count": 114,
     "metadata": {},
     "output_type": "execute_result"
    }
   ],
   "source": [
    "year_group_df = pl.read_csv('data/Year Groups.csv')\n",
    "year_group_df.head()"
   ]
  },
  {
   "cell_type": "code",
   "execution_count": 115,
   "metadata": {},
   "outputs": [
    {
     "data": {
      "text/html": [
       "<div><style>\n",
       ".dataframe > thead > tr > th,\n",
       ".dataframe > tbody > tr > td {\n",
       "  text-align: right;\n",
       "  white-space: pre-wrap;\n",
       "}\n",
       "</style>\n",
       "<small>shape: (5, 6)</small><table border=\"1\" class=\"dataframe\"><thead><tr><th>Full Name</th><th>Year Group</th><th>Days Present</th><th>Days Absent</th><th>Year Attendance Rate</th><th>Rank</th></tr><tr><td>str</td><td>i64</td><td>i64</td><td>i64</td><td>f64</td><td>u32</td></tr></thead><tbody><tr><td>&quot;Avery Colebour…</td><td>2</td><td>114</td><td>76</td><td>60.0</td><td>64</td></tr><tr><td>&quot;Valentino Klim…</td><td>6</td><td>134</td><td>56</td><td>70.53</td><td>44</td></tr><tr><td>&quot;King Truswell&quot;</td><td>5</td><td>141</td><td>49</td><td>74.21</td><td>37</td></tr><tr><td>&quot;Den Masters&quot;</td><td>7</td><td>142</td><td>48</td><td>74.74</td><td>36</td></tr><tr><td>&quot;Arabele Rosena…</td><td>7</td><td>109</td><td>81</td><td>57.37</td><td>69</td></tr></tbody></table></div>"
      ],
      "text/plain": [
       "shape: (5, 6)\n",
       "┌───────────────────┬────────────┬──────────────┬─────────────┬──────────────────────┬──────┐\n",
       "│ Full Name         ┆ Year Group ┆ Days Present ┆ Days Absent ┆ Year Attendance Rate ┆ Rank │\n",
       "│ ---               ┆ ---        ┆ ---          ┆ ---         ┆ ---                  ┆ ---  │\n",
       "│ str               ┆ i64        ┆ i64          ┆ i64         ┆ f64                  ┆ u32  │\n",
       "╞═══════════════════╪════════════╪══════════════╪═════════════╪══════════════════════╪══════╡\n",
       "│ Avery Colebourn   ┆ 2          ┆ 114          ┆ 76          ┆ 60.0                 ┆ 64   │\n",
       "│ Valentino Klimko  ┆ 6          ┆ 134          ┆ 56          ┆ 70.53                ┆ 44   │\n",
       "│ King Truswell     ┆ 5          ┆ 141          ┆ 49          ┆ 74.21                ┆ 37   │\n",
       "│ Den Masters       ┆ 7          ┆ 142          ┆ 48          ┆ 74.74                ┆ 36   │\n",
       "│ Arabele Rosenauer ┆ 7          ┆ 109          ┆ 81          ┆ 57.37                ┆ 69   │\n",
       "└───────────────────┴────────────┴──────────────┴─────────────┴──────────────────────┴──────┘"
      ]
     },
     "execution_count": 115,
     "metadata": {},
     "output_type": "execute_result"
    }
   ],
   "source": [
    "attendance_yearly_df = (\n",
    "    attendance_df\n",
    "    .join(\n",
    "        year_group_df, how='inner', on=['First Name', 'Last Name']\n",
    "    )\n",
    "    .group_by('Full Name', 'Year Group')\n",
    "    .agg(\n",
    "        pl.col('Days Present').sum(),\n",
    "        pl.col('Days Absent').sum(),\n",
    "        (\n",
    "            pl.col('Days Present').sum() / \n",
    "            (pl.col('Days Present').sum() + pl.col('Days Absent').sum() ) *\n",
    "            100\n",
    "        ) \n",
    "        .round(2) \n",
    "        .alias('Year Attendance Rate')\n",
    "    )\n",
    "    .with_columns(\n",
    "        pl.col('Year Attendance Rate').rank('dense', descending=True).alias('Rank')\n",
    "    )\n",
    ")\n",
    "attendance_yearly_df.head()"
   ]
  },
  {
   "cell_type": "code",
   "execution_count": 116,
   "metadata": {},
   "outputs": [
    {
     "data": {
      "text/html": [
       "<div><style>\n",
       ".dataframe > thead > tr > th,\n",
       ".dataframe > tbody > tr > td {\n",
       "  text-align: right;\n",
       "  white-space: pre-wrap;\n",
       "}\n",
       "</style>\n",
       "<small>shape: (2, 3)</small><table border=\"1\" class=\"dataframe\"><thead><tr><th>Full Name</th><th>Year Attendance Rate</th><th>Rank</th></tr><tr><td>str</td><td>f64</td><td>u32</td></tr></thead><tbody><tr><td>&quot;Cinnamon Stoyl…</td><td>96.32</td><td>1</td></tr><tr><td>&quot;Chickie Asch&quot;</td><td>96.32</td><td>1</td></tr></tbody></table></div>"
      ],
      "text/plain": [
       "shape: (2, 3)\n",
       "┌─────────────────┬──────────────────────┬──────┐\n",
       "│ Full Name       ┆ Year Attendance Rate ┆ Rank │\n",
       "│ ---             ┆ ---                  ┆ ---  │\n",
       "│ str             ┆ f64                  ┆ u32  │\n",
       "╞═════════════════╪══════════════════════╪══════╡\n",
       "│ Cinnamon Stoyle ┆ 96.32                ┆ 1    │\n",
       "│ Chickie Asch    ┆ 96.32                ┆ 1    │\n",
       "└─────────────────┴──────────────────────┴──────┘"
      ]
     },
     "execution_count": 116,
     "metadata": {},
     "output_type": "execute_result"
    }
   ],
   "source": [
    "best_attendance_rate = (\n",
    "    attendance_yearly_df\n",
    "    .filter(pl.col('Rank')==1)\n",
    "    .select('Full Name', 'Year Attendance Rate', 'Rank')\n",
    ")\n",
    "best_attendance_rate"
   ]
  },
  {
   "cell_type": "code",
   "execution_count": 117,
   "metadata": {},
   "outputs": [
    {
     "data": {
      "text/html": [
       "<div><style>\n",
       ".dataframe > thead > tr > th,\n",
       ".dataframe > tbody > tr > td {\n",
       "  text-align: right;\n",
       "  white-space: pre-wrap;\n",
       "}\n",
       "</style>\n",
       "<small>shape: (7, 2)</small><table border=\"1\" class=\"dataframe\"><thead><tr><th>Year Group</th><th>Year Attendance Rate</th></tr><tr><td>i64</td><td>list[f64]</td></tr></thead><tbody><tr><td>2</td><td>[92.11, 88.95, … 85.26]</td></tr><tr><td>1</td><td>[87.89, 86.84, … 84.21]</td></tr><tr><td>7</td><td>[96.32, 95.26, … 85.79]</td></tr><tr><td>3</td><td>[92.63, 92.11, … 80.0]</td></tr><tr><td>5</td><td>[92.11, 89.47, … 87.37]</td></tr><tr><td>6</td><td>[96.32, 91.58, … 86.32]</td></tr><tr><td>4</td><td>[91.58, 88.42, … 85.26]</td></tr></tbody></table></div>"
      ],
      "text/plain": [
       "shape: (7, 2)\n",
       "┌────────────┬─────────────────────────┐\n",
       "│ Year Group ┆ Year Attendance Rate    │\n",
       "│ ---        ┆ ---                     │\n",
       "│ i64        ┆ list[f64]               │\n",
       "╞════════════╪═════════════════════════╡\n",
       "│ 2          ┆ [92.11, 88.95, … 85.26] │\n",
       "│ 1          ┆ [87.89, 86.84, … 84.21] │\n",
       "│ 7          ┆ [96.32, 95.26, … 85.79] │\n",
       "│ 3          ┆ [92.63, 92.11, … 80.0]  │\n",
       "│ 5          ┆ [92.11, 89.47, … 87.37] │\n",
       "│ 6          ┆ [96.32, 91.58, … 86.32] │\n",
       "│ 4          ┆ [91.58, 88.42, … 85.26] │\n",
       "└────────────┴─────────────────────────┘"
      ]
     },
     "execution_count": 117,
     "metadata": {},
     "output_type": "execute_result"
    }
   ],
   "source": [
    "top_5_perc_stu_cnt = ( pl.count().over('Year Group') )*0.05\n",
    "top_5_perc_list_df =  (\n",
    "    attendance_yearly_df\n",
    "    .sort('Rank')\n",
    "    .group_by('Year Group')\n",
    "    .agg(\n",
    "        pl.col('Year Group', 'Year Attendance Rate')\n",
    "        .head(\n",
    "            (pl.count() * 0.05)\n",
    "            .ceil()\n",
    "        )\n",
    "    )\n",
    ")\n",
    "   \n",
    "top_5_perc_list_df"
   ]
  },
  {
   "cell_type": "code",
   "execution_count": 119,
   "metadata": {},
   "outputs": [
    {
     "data": {
      "text/html": [
       "<div><style>\n",
       ".dataframe > thead > tr > th,\n",
       ".dataframe > tbody > tr > td {\n",
       "  text-align: right;\n",
       "  white-space: pre-wrap;\n",
       "}\n",
       "</style>\n",
       "<small>shape: (55, 3)</small><table border=\"1\" class=\"dataframe\"><thead><tr><th>Year Group</th><th>Full Name</th><th>Year Attendance Rate</th></tr><tr><td>i64</td><td>str</td><td>f64</td></tr></thead><tbody><tr><td>2</td><td>&quot;Tiffy Glanz&quot;</td><td>86.84</td></tr><tr><td>5</td><td>&quot;Zarah Symingto…</td><td>89.47</td></tr><tr><td>3</td><td>&quot;Ronica Propper…</td><td>80.0</td></tr><tr><td>6</td><td>&quot;Nick Jurzyk&quot;</td><td>91.58</td></tr><tr><td>5</td><td>&quot;Gil Hele&quot;</td><td>87.37</td></tr><tr><td>7</td><td>&quot;Jami Plunket&quot;</td><td>86.32</td></tr><tr><td>6</td><td>&quot;Elvin Lewinton…</td><td>86.84</td></tr><tr><td>4</td><td>&quot;Alane Beidebek…</td><td>88.42</td></tr><tr><td>6</td><td>&quot;Cinnamon Stoyl…</td><td>96.32</td></tr><tr><td>1</td><td>&quot;Leese Leinster…</td><td>84.74</td></tr><tr><td>4</td><td>&quot;Madlen Lethard…</td><td>85.26</td></tr><tr><td>4</td><td>&quot;Cristionna Heg…</td><td>85.26</td></tr><tr><td>&hellip;</td><td>&hellip;</td><td>&hellip;</td></tr><tr><td>1</td><td>&quot;Barnie Drees&quot;</td><td>84.21</td></tr><tr><td>4</td><td>&quot;Alon Brash&quot;</td><td>87.89</td></tr><tr><td>4</td><td>&quot;Maximo Greenin…</td><td>91.58</td></tr><tr><td>4</td><td>&quot;Johna Degue&quot;</td><td>86.32</td></tr><tr><td>3</td><td>&quot;Livvyy Vasquez…</td><td>84.74</td></tr><tr><td>5</td><td>&quot;Brana Bridgsto…</td><td>88.42</td></tr><tr><td>4</td><td>&quot;Bondon Antonaz…</td><td>85.26</td></tr><tr><td>7</td><td>&quot;Marcus Lemery&quot;</td><td>95.26</td></tr><tr><td>3</td><td>&quot;Ingelbert Sess…</td><td>84.21</td></tr><tr><td>4</td><td>&quot;Janene Harford…</td><td>85.79</td></tr><tr><td>2</td><td>&quot;Bartholemy Rat…</td><td>85.26</td></tr><tr><td>3</td><td>&quot;Westley Bergin…</td><td>92.63</td></tr></tbody></table></div>"
      ],
      "text/plain": [
       "shape: (55, 3)\n",
       "┌────────────┬────────────────────┬──────────────────────┐\n",
       "│ Year Group ┆ Full Name          ┆ Year Attendance Rate │\n",
       "│ ---        ┆ ---                ┆ ---                  │\n",
       "│ i64        ┆ str                ┆ f64                  │\n",
       "╞════════════╪════════════════════╪══════════════════════╡\n",
       "│ 2          ┆ Tiffy Glanz        ┆ 86.84                │\n",
       "│ 5          ┆ Zarah Symington    ┆ 89.47                │\n",
       "│ 3          ┆ Ronica Proppers    ┆ 80.0                 │\n",
       "│ 6          ┆ Nick Jurzyk        ┆ 91.58                │\n",
       "│ …          ┆ …                  ┆ …                    │\n",
       "│ 3          ┆ Ingelbert Sessuns  ┆ 84.21                │\n",
       "│ 4          ┆ Janene Harford     ┆ 85.79                │\n",
       "│ 2          ┆ Bartholemy Rattrie ┆ 85.26                │\n",
       "│ 3          ┆ Westley Bergin     ┆ 92.63                │\n",
       "└────────────┴────────────────────┴──────────────────────┘"
      ]
     },
     "execution_count": 119,
     "metadata": {},
     "output_type": "execute_result"
    }
   ],
   "source": [
    "top_5_attendance = (\n",
    "    attendance_yearly_df\n",
    "    .join(top_5_perc_list_df, how='inner', on='Year Group', suffix=' List')\n",
    "    .filter(\n",
    "        pl.col('Year Attendance Rate').is_in(pl.col('Year Attendance Rate List'))\n",
    "    )\n",
    "    .select('Year Group', 'Full Name', 'Year Attendance Rate')\n",
    ")\n",
    "top_5_attendance"
   ]
  },
  {
   "cell_type": "code",
   "execution_count": null,
   "metadata": {},
   "outputs": [],
   "source": []
  }
 ],
 "metadata": {
  "kernelspec": {
   "display_name": "env",
   "language": "python",
   "name": "python3"
  },
  "language_info": {
   "codemirror_mode": {
    "name": "ipython",
    "version": 3
   },
   "file_extension": ".py",
   "mimetype": "text/x-python",
   "name": "python",
   "nbconvert_exporter": "python",
   "pygments_lexer": "ipython3",
   "version": "3.11.3"
  }
 },
 "nbformat": 4,
 "nbformat_minor": 2
}
