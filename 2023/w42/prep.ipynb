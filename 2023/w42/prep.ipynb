{
 "cells": [
  {
   "cell_type": "code",
   "execution_count": 1,
   "metadata": {},
   "outputs": [],
   "source": [
    "import polars as pl"
   ]
  },
  {
   "cell_type": "code",
   "execution_count": 14,
   "metadata": {},
   "outputs": [],
   "source": [
    "yr5_contact = pl.read_csv('data/Year 5 Contact Details.csv')\n",
    "yr6_contact = pl.read_csv('data/Year 6 Contact Details.csv')\n",
    "yr5_songs = pl.read_csv('data/Year 5 Song Choices.csv')\n",
    "yr6_songs = pl.read_csv('data/Year 6 Song Choices.csv')"
   ]
  },
  {
   "cell_type": "code",
   "execution_count": 15,
   "metadata": {},
   "outputs": [
    {
     "data": {
      "text/html": [
       "<div><style>\n",
       ".dataframe > thead > tr > th,\n",
       ".dataframe > tbody > tr > td {\n",
       "  text-align: right;\n",
       "  white-space: pre-wrap;\n",
       "}\n",
       "</style>\n",
       "<small>shape: (5, 3)</small><table border=\"1\" class=\"dataframe\"><thead><tr><th>Full Name</th><th>Emergency Contact No.</th><th>Year Group</th></tr><tr><td>str</td><td>str</td><td>i64</td></tr></thead><tbody><tr><td>&quot;Arin Klimashev…</td><td>&quot;260-857-0158&quot;</td><td>5</td></tr><tr><td>&quot;Annabal Neve&quot;</td><td>&quot;117-274-3348&quot;</td><td>5</td></tr><tr><td>&quot;Don Maine&quot;</td><td>&quot;193-276-4085&quot;</td><td>5</td></tr><tr><td>&quot;Wendel Hunnywe…</td><td>&quot;829-741-7802&quot;</td><td>5</td></tr><tr><td>&quot;Beale Sambles&quot;</td><td>&quot;496-301-6802&quot;</td><td>5</td></tr></tbody></table></div>"
      ],
      "text/plain": [
       "shape: (5, 3)\n",
       "┌───────────────────┬───────────────────────┬────────────┐\n",
       "│ Full Name         ┆ Emergency Contact No. ┆ Year Group │\n",
       "│ ---               ┆ ---                   ┆ ---        │\n",
       "│ str               ┆ str                   ┆ i64        │\n",
       "╞═══════════════════╪═══════════════════════╪════════════╡\n",
       "│ Arin Klimashevich ┆ 260-857-0158          ┆ 5          │\n",
       "│ Annabal Neve      ┆ 117-274-3348          ┆ 5          │\n",
       "│ Don Maine         ┆ 193-276-4085          ┆ 5          │\n",
       "│ Wendel Hunnywell  ┆ 829-741-7802          ┆ 5          │\n",
       "│ Beale Sambles     ┆ 496-301-6802          ┆ 5          │\n",
       "└───────────────────┴───────────────────────┴────────────┘"
      ]
     },
     "metadata": {},
     "output_type": "display_data"
    },
    {
     "data": {
      "text/html": [
       "<div><style>\n",
       ".dataframe > thead > tr > th,\n",
       ".dataframe > tbody > tr > td {\n",
       "  text-align: right;\n",
       "  white-space: pre-wrap;\n",
       "}\n",
       "</style>\n",
       "<small>shape: (5, 3)</small><table border=\"1\" class=\"dataframe\"><thead><tr><th>Full Name</th><th>Emergency Contact No.</th><th>Year Group</th></tr><tr><td>str</td><td>str</td><td>i64</td></tr></thead><tbody><tr><td>&quot;Dacie Bossel&quot;</td><td>&quot;556-296-2582&quot;</td><td>6</td></tr><tr><td>&quot;Mireielle Abba…</td><td>&quot;123-819-4261&quot;</td><td>6</td></tr><tr><td>&quot;Alia Cully&quot;</td><td>&quot;857-405-1090&quot;</td><td>6</td></tr><tr><td>&quot;Fritz Cargill&quot;</td><td>&quot;833-135-5874&quot;</td><td>6</td></tr><tr><td>&quot;Valenka Burnha…</td><td>&quot;481-401-7664&quot;</td><td>6</td></tr></tbody></table></div>"
      ],
      "text/plain": [
       "shape: (5, 3)\n",
       "┌─────────────────────┬───────────────────────┬────────────┐\n",
       "│ Full Name           ┆ Emergency Contact No. ┆ Year Group │\n",
       "│ ---                 ┆ ---                   ┆ ---        │\n",
       "│ str                 ┆ str                   ┆ i64        │\n",
       "╞═════════════════════╪═══════════════════════╪════════════╡\n",
       "│ Dacie Bossel        ┆ 556-296-2582          ┆ 6          │\n",
       "│ Mireielle Abbatucci ┆ 123-819-4261          ┆ 6          │\n",
       "│ Alia Cully          ┆ 857-405-1090          ┆ 6          │\n",
       "│ Fritz Cargill       ┆ 833-135-5874          ┆ 6          │\n",
       "│ Valenka Burnham     ┆ 481-401-7664          ┆ 6          │\n",
       "└─────────────────────┴───────────────────────┴────────────┘"
      ]
     },
     "metadata": {},
     "output_type": "display_data"
    },
    {
     "data": {
      "text/html": [
       "<div><style>\n",
       ".dataframe > thead > tr > th,\n",
       ".dataframe > tbody > tr > td {\n",
       "  text-align: right;\n",
       "  white-space: pre-wrap;\n",
       "}\n",
       "</style>\n",
       "<small>shape: (5, 2)</small><table border=\"1\" class=\"dataframe\"><thead><tr><th>Full Name</th><th>Song Choice</th></tr><tr><td>str</td><td>str</td></tr></thead><tbody><tr><td>&quot;Arin Klimashev…</td><td>&quot;Dancing Queen&quot;</td></tr><tr><td>&quot;Annabal Neve&quot;</td><td>&quot;Dancing Queen&quot;</td></tr><tr><td>&quot;Don Maine&quot;</td><td>&quot;I Like To Move…</td></tr><tr><td>&quot;Wendel Hunnywe…</td><td>&quot;Mamma Mia&quot;</td></tr><tr><td>&quot;Beale Sambles&quot;</td><td>&quot;About You Now&quot;</td></tr></tbody></table></div>"
      ],
      "text/plain": [
       "shape: (5, 2)\n",
       "┌───────────────────┬───────────────────────────┐\n",
       "│ Full Name         ┆ Song Choice               │\n",
       "│ ---               ┆ ---                       │\n",
       "│ str               ┆ str                       │\n",
       "╞═══════════════════╪═══════════════════════════╡\n",
       "│ Arin Klimashevich ┆ Dancing Queen             │\n",
       "│ Annabal Neve      ┆ Dancing Queen             │\n",
       "│ Don Maine         ┆ I Like To Move It Move It │\n",
       "│ Wendel Hunnywell  ┆ Mamma Mia                 │\n",
       "│ Beale Sambles     ┆ About You Now             │\n",
       "└───────────────────┴───────────────────────────┘"
      ]
     },
     "metadata": {},
     "output_type": "display_data"
    },
    {
     "data": {
      "text/html": [
       "<div><style>\n",
       ".dataframe > thead > tr > th,\n",
       ".dataframe > tbody > tr > td {\n",
       "  text-align: right;\n",
       "  white-space: pre-wrap;\n",
       "}\n",
       "</style>\n",
       "<small>shape: (5, 2)</small><table border=\"1\" class=\"dataframe\"><thead><tr><th>Full Name</th><th>Song Recommendation</th></tr><tr><td>str</td><td>str</td></tr></thead><tbody><tr><td>&quot;Dacie Bossel&quot;</td><td>&quot;All Falls Down…</td></tr><tr><td>&quot;Mireielle Abba…</td><td>&quot;Reach For The …</td></tr><tr><td>&quot;Alia Cully&quot;</td><td>&quot;About You Now&quot;</td></tr><tr><td>&quot;Fritz Cargill&quot;</td><td>&quot;All Falls Down…</td></tr><tr><td>&quot;Valenka Burnha…</td><td>&quot;All Falls Down…</td></tr></tbody></table></div>"
      ],
      "text/plain": [
       "shape: (5, 2)\n",
       "┌─────────────────────┬─────────────────────┐\n",
       "│ Full Name           ┆ Song Recommendation │\n",
       "│ ---                 ┆ ---                 │\n",
       "│ str                 ┆ str                 │\n",
       "╞═════════════════════╪═════════════════════╡\n",
       "│ Dacie Bossel        ┆ All Falls Down      │\n",
       "│ Mireielle Abbatucci ┆ Reach For The Stars │\n",
       "│ Alia Cully          ┆ About You Now       │\n",
       "│ Fritz Cargill       ┆ All Falls Down      │\n",
       "│ Valenka Burnham     ┆ All Falls Down      │\n",
       "└─────────────────────┴─────────────────────┘"
      ]
     },
     "metadata": {},
     "output_type": "display_data"
    }
   ],
   "source": [
    "display(\n",
    "    yr5_contact.head(),\n",
    "    yr6_contact.head(),\n",
    "    yr5_songs.head(),\n",
    "    yr6_songs.head(),\n",
    ")"
   ]
  },
  {
   "cell_type": "code",
   "execution_count": 21,
   "metadata": {},
   "outputs": [
    {
     "data": {
      "text/html": [
       "<div><style>\n",
       ".dataframe > thead > tr > th,\n",
       ".dataframe > tbody > tr > td {\n",
       "  text-align: right;\n",
       "  white-space: pre-wrap;\n",
       "}\n",
       "</style>\n",
       "<small>shape: (5, 4)</small><table border=\"1\" class=\"dataframe\"><thead><tr><th>Full Name</th><th>Song Recommendation</th><th>Emergency Contact No.</th><th>Year Group</th></tr><tr><td>str</td><td>str</td><td>str</td><td>i64</td></tr></thead><tbody><tr><td>&quot;Arin Klimashev…</td><td>&quot;Dancing Queen&quot;</td><td>&quot;260-857-0158&quot;</td><td>5</td></tr><tr><td>&quot;Annabal Neve&quot;</td><td>&quot;Dancing Queen&quot;</td><td>&quot;117-274-3348&quot;</td><td>5</td></tr><tr><td>&quot;Don Maine&quot;</td><td>&quot;I Like To Move…</td><td>&quot;193-276-4085&quot;</td><td>5</td></tr><tr><td>&quot;Wendel Hunnywe…</td><td>&quot;Mamma Mia&quot;</td><td>&quot;829-741-7802&quot;</td><td>5</td></tr><tr><td>&quot;Beale Sambles&quot;</td><td>&quot;About You Now&quot;</td><td>&quot;496-301-6802&quot;</td><td>5</td></tr></tbody></table></div>"
      ],
      "text/plain": [
       "shape: (5, 4)\n",
       "┌───────────────────┬───────────────────────────┬───────────────────────┬────────────┐\n",
       "│ Full Name         ┆ Song Recommendation       ┆ Emergency Contact No. ┆ Year Group │\n",
       "│ ---               ┆ ---                       ┆ ---                   ┆ ---        │\n",
       "│ str               ┆ str                       ┆ str                   ┆ i64        │\n",
       "╞═══════════════════╪═══════════════════════════╪═══════════════════════╪════════════╡\n",
       "│ Arin Klimashevich ┆ Dancing Queen             ┆ 260-857-0158          ┆ 5          │\n",
       "│ Annabal Neve      ┆ Dancing Queen             ┆ 117-274-3348          ┆ 5          │\n",
       "│ Don Maine         ┆ I Like To Move It Move It ┆ 193-276-4085          ┆ 5          │\n",
       "│ Wendel Hunnywell  ┆ Mamma Mia                 ┆ 829-741-7802          ┆ 5          │\n",
       "│ Beale Sambles     ┆ About You Now             ┆ 496-301-6802          ┆ 5          │\n",
       "└───────────────────┴───────────────────────────┴───────────────────────┴────────────┘"
      ]
     },
     "metadata": {},
     "output_type": "display_data"
    },
    {
     "data": {
      "text/html": [
       "<div><style>\n",
       ".dataframe > thead > tr > th,\n",
       ".dataframe > tbody > tr > td {\n",
       "  text-align: right;\n",
       "  white-space: pre-wrap;\n",
       "}\n",
       "</style>\n",
       "<small>shape: (5, 4)</small><table border=\"1\" class=\"dataframe\"><thead><tr><th>Full Name</th><th>Song Recommendation</th><th>Emergency Contact No.</th><th>Year Group</th></tr><tr><td>str</td><td>str</td><td>str</td><td>i64</td></tr></thead><tbody><tr><td>&quot;Dacie Bossel&quot;</td><td>&quot;All Falls Down…</td><td>&quot;556-296-2582&quot;</td><td>6</td></tr><tr><td>&quot;Mireielle Abba…</td><td>&quot;Reach For The …</td><td>&quot;123-819-4261&quot;</td><td>6</td></tr><tr><td>&quot;Alia Cully&quot;</td><td>&quot;About You Now&quot;</td><td>&quot;857-405-1090&quot;</td><td>6</td></tr><tr><td>&quot;Fritz Cargill&quot;</td><td>&quot;All Falls Down…</td><td>&quot;833-135-5874&quot;</td><td>6</td></tr><tr><td>&quot;Valenka Burnha…</td><td>&quot;All Falls Down…</td><td>&quot;481-401-7664&quot;</td><td>6</td></tr></tbody></table></div>"
      ],
      "text/plain": [
       "shape: (5, 4)\n",
       "┌─────────────────────┬─────────────────────┬───────────────────────┬────────────┐\n",
       "│ Full Name           ┆ Song Recommendation ┆ Emergency Contact No. ┆ Year Group │\n",
       "│ ---                 ┆ ---                 ┆ ---                   ┆ ---        │\n",
       "│ str                 ┆ str                 ┆ str                   ┆ i64        │\n",
       "╞═════════════════════╪═════════════════════╪═══════════════════════╪════════════╡\n",
       "│ Dacie Bossel        ┆ All Falls Down      ┆ 556-296-2582          ┆ 6          │\n",
       "│ Mireielle Abbatucci ┆ Reach For The Stars ┆ 123-819-4261          ┆ 6          │\n",
       "│ Alia Cully          ┆ About You Now       ┆ 857-405-1090          ┆ 6          │\n",
       "│ Fritz Cargill       ┆ All Falls Down      ┆ 833-135-5874          ┆ 6          │\n",
       "│ Valenka Burnham     ┆ All Falls Down      ┆ 481-401-7664          ┆ 6          │\n",
       "└─────────────────────┴─────────────────────┴───────────────────────┴────────────┘"
      ]
     },
     "metadata": {},
     "output_type": "display_data"
    }
   ],
   "source": [
    "yr5_summary = yr5_songs.join(yr5_contact, on='Full Name', how='left').rename({'Song Choice': 'Song Recommendation'})\n",
    "yr6_summary = yr6_songs.join(yr6_contact, on='Full Name', how='left')\n",
    "display(\n",
    "    yr5_summary.head(),\n",
    "    yr6_summary.head()\n",
    ")"
   ]
  },
  {
   "cell_type": "code",
   "execution_count": 27,
   "metadata": {},
   "outputs": [
    {
     "data": {
      "text/html": [
       "<div><style>\n",
       ".dataframe > thead > tr > th,\n",
       ".dataframe > tbody > tr > td {\n",
       "  text-align: right;\n",
       "  white-space: pre-wrap;\n",
       "}\n",
       "</style>\n",
       "<small>shape: (14, 3)</small><table border=\"1\" class=\"dataframe\"><thead><tr><th>Year Group</th><th>Song Recommendation</th><th>Number of Votes</th></tr><tr><td>i64</td><td>str</td><td>u32</td></tr></thead><tbody><tr><td>5</td><td>&quot;About You Now&quot;</td><td>11</td></tr><tr><td>6</td><td>&quot;About You Now&quot;</td><td>11</td></tr><tr><td>5</td><td>&quot;All Falls Down…</td><td>2</td></tr><tr><td>6</td><td>&quot;All Falls Down…</td><td>10</td></tr><tr><td>5</td><td>&quot;Dancing Queen&quot;</td><td>26</td></tr><tr><td>6</td><td>&quot;Dancing Queen&quot;</td><td>3</td></tr><tr><td>5</td><td>&quot;I Like To Move…</td><td>9</td></tr><tr><td>6</td><td>&quot;I Like To Move…</td><td>14</td></tr><tr><td>5</td><td>&quot;Mamma Mia&quot;</td><td>8</td></tr><tr><td>6</td><td>&quot;Mamma Mia&quot;</td><td>4</td></tr><tr><td>5</td><td>&quot;Mr Brightside&quot;</td><td>1</td></tr><tr><td>6</td><td>&quot;Mr Brightside&quot;</td><td>4</td></tr><tr><td>5</td><td>&quot;Reach For The …</td><td>3</td></tr><tr><td>6</td><td>&quot;Reach For The …</td><td>14</td></tr></tbody></table></div>"
      ],
      "text/plain": [
       "shape: (14, 3)\n",
       "┌────────────┬─────────────────────┬─────────────────┐\n",
       "│ Year Group ┆ Song Recommendation ┆ Number of Votes │\n",
       "│ ---        ┆ ---                 ┆ ---             │\n",
       "│ i64        ┆ str                 ┆ u32             │\n",
       "╞════════════╪═════════════════════╪═════════════════╡\n",
       "│ 5          ┆ About You Now       ┆ 11              │\n",
       "│ 6          ┆ About You Now       ┆ 11              │\n",
       "│ 5          ┆ All Falls Down      ┆ 2               │\n",
       "│ 6          ┆ All Falls Down      ┆ 10              │\n",
       "│ …          ┆ …                   ┆ …               │\n",
       "│ 5          ┆ Mr Brightside       ┆ 1               │\n",
       "│ 6          ┆ Mr Brightside       ┆ 4               │\n",
       "│ 5          ┆ Reach For The Stars ┆ 3               │\n",
       "│ 6          ┆ Reach For The Stars ┆ 14              │\n",
       "└────────────┴─────────────────────┴─────────────────┘"
      ]
     },
     "execution_count": 27,
     "metadata": {},
     "output_type": "execute_result"
    }
   ],
   "source": [
    "df = (\n",
    "    pl.concat([yr5_summary, yr6_summary])\n",
    "    .group_by('Year Group', 'Song Recommendation')\n",
    "    .agg(pl.count().alias('Number of Votes'))\n",
    "    .sort('Song Recommendation', 'Year Group')\n",
    ")\n",
    "df"
   ]
  },
  {
   "cell_type": "code",
   "execution_count": null,
   "metadata": {},
   "outputs": [],
   "source": []
  }
 ],
 "metadata": {
  "kernelspec": {
   "display_name": "env",
   "language": "python",
   "name": "python3"
  },
  "language_info": {
   "codemirror_mode": {
    "name": "ipython",
    "version": 3
   },
   "file_extension": ".py",
   "mimetype": "text/x-python",
   "name": "python",
   "nbconvert_exporter": "python",
   "pygments_lexer": "ipython3",
   "version": "3.11.3"
  }
 },
 "nbformat": 4,
 "nbformat_minor": 2
}
